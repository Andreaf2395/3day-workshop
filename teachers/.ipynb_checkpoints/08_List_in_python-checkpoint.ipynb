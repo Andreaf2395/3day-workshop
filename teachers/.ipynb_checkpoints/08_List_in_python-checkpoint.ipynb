{
 "cells": [
  {
   "cell_type": "markdown",
   "metadata": {},
   "source": [
    "## <center>List </center>\n",
    "### <center>Author: e-Yantra Team </center>"
   ]
  },
  {
   "cell_type": "markdown",
   "metadata": {},
   "source": [
    "## Topics to cover\n",
    "\n",
    "- Defining List\n",
    "- Indexing, slicing, check membership\n",
    "- length (len), compare (cmp), max, min, convert list to tuple and string\n",
    "- copy, shallow copy\n",
    "- Multi-dimension\n",
    "- list to string using join\n",
    "- string to list using split\n",
    "- Methods\n",
    "    - append\n",
    "    - insert\n",
    "    - count\n",
    "    - extend\n",
    "    - index\n",
    "    - pop\n",
    "    - remove\n",
    "    - reverse\n",
    "    - sort (reverse=True)\n",
    "    - sorted\n",
    "    \n",
    "## tuples vs lists \n",
    "    1. tuples are immutable i.e. cannot be changed unlike lists \n",
    "    2. tuples use parentheses, whereas lists use square brackets"
   ]
  },
  {
   "cell_type": "markdown",
   "metadata": {},
   "source": [
    "## Declaring a List"
   ]
  },
  {
   "cell_type": "code",
   "execution_count": null,
   "metadata": {},
   "outputs": [],
   "source": [
    "# create lists"
   ]
  },
  {
   "cell_type": "markdown",
   "metadata": {},
   "source": [
    "## Accessing Elements of list\n",
    "\n",
    "- Using slicing and indexing - as we did in string manipulation"
   ]
  },
  {
   "cell_type": "code",
   "execution_count": null,
   "metadata": {},
   "outputs": [],
   "source": [
    "# indexing and slicing of list"
   ]
  },
  {
   "cell_type": "markdown",
   "metadata": {},
   "source": [
    "## Updating List - using index\n",
    "- You can replace old element with new\n",
    "- New element can not be added to list"
   ]
  },
  {
   "cell_type": "code",
   "execution_count": null,
   "metadata": {},
   "outputs": [],
   "source": [
    "# updating lists"
   ]
  },
  {
   "cell_type": "markdown",
   "metadata": {},
   "source": [
    "## Updating List - using append() method\n",
    "- append method takes one input as parameter\n",
    "- add new element to the end of list"
   ]
  },
  {
   "cell_type": "code",
   "execution_count": null,
   "metadata": {},
   "outputs": [],
   "source": [
    "# append method"
   ]
  },
  {
   "cell_type": "markdown",
   "metadata": {},
   "source": [
    "## Insertion of element\n",
    "- listname.insert(index,element)\n",
    "    - listname is name of list\n",
    "    - index is position where insertion needs to be done"
   ]
  },
  {
   "cell_type": "code",
   "execution_count": null,
   "metadata": {},
   "outputs": [],
   "source": [
    "# insert method"
   ]
  },
  {
   "cell_type": "markdown",
   "metadata": {},
   "source": [
    "## Extend list\n",
    "- Adding multiple element to the end of list"
   ]
  },
  {
   "cell_type": "code",
   "execution_count": null,
   "metadata": {},
   "outputs": [],
   "source": [
    "# extend method"
   ]
  },
  {
   "cell_type": "markdown",
   "metadata": {
    "collapsed": true
   },
   "source": [
    "## Basic List operation\n",
    "- len\n",
    "- min\n",
    "- max\n",
    "- Repetition\n",
    "- Membership\n",
    "- Iteration  "
   ]
  },
  {
   "cell_type": "code",
   "execution_count": null,
   "metadata": {},
   "outputs": [],
   "source": [
    "# len, max, min"
   ]
  },
  {
   "cell_type": "code",
   "execution_count": null,
   "metadata": {},
   "outputs": [],
   "source": [
    "# check membership of element "
   ]
  },
  {
   "cell_type": "code",
   "execution_count": null,
   "metadata": {},
   "outputs": [],
   "source": [
    "## Iterate through all the elements of list "
   ]
  },
  {
   "cell_type": "markdown",
   "metadata": {},
   "source": [
    "## Counting element in list\n",
    "- listname.count(element)\n",
    "    - listname is name of list\n",
    "    - return number of time \"element\" is present in \"listname\""
   ]
  },
  {
   "cell_type": "code",
   "execution_count": null,
   "metadata": {},
   "outputs": [],
   "source": [
    "# counting elements"
   ]
  },
  {
   "cell_type": "markdown",
   "metadata": {},
   "source": [
    "## Finding index of element in list\n",
    "- listname.index(element)\n",
    "    - listname is name of list\n",
    "    - return index of first occurance of \"element\" in \"listname\"\n",
    "    - If element is not present in list, error is raised "
   ]
  },
  {
   "cell_type": "code",
   "execution_count": null,
   "metadata": {},
   "outputs": [],
   "source": [
    "# finding index of element"
   ]
  },
  {
   "cell_type": "markdown",
   "metadata": {},
   "source": [
    "## pop\n",
    "- pop (extract and remove element)\n",
    "- listname.pop(index)\n",
    "    - listname is name of list\n",
    "    - index is position of element which has to be removed. If it is not specified, last element is removed\n",
    "    - return element which is removed\n",
    "    - list is updated, with last element removed"
   ]
  },
  {
   "cell_type": "code",
   "execution_count": null,
   "metadata": {},
   "outputs": [],
   "source": [
    "# Try poping "
   ]
  },
  {
   "cell_type": "markdown",
   "metadata": {},
   "source": [
    "## remove\n",
    "- remove (remove element)\n",
    "- listname.remove(element)\n",
    "    - listname is name of list\n",
    "    - element is one which has to be removed. If element is not present in list, gives value error \n",
    "    - How remove is differenr from pop - does not return anything"
   ]
  },
  {
   "cell_type": "code",
   "execution_count": null,
   "metadata": {},
   "outputs": [],
   "source": [
    "# Try removing"
   ]
  },
  {
   "cell_type": "markdown",
   "metadata": {},
   "source": [
    "## reverse\n",
    "- reverse ordering of list in place\n",
    "- return nothing"
   ]
  },
  {
   "cell_type": "code",
   "execution_count": null,
   "metadata": {},
   "outputs": [],
   "source": [
    "# Try reversing a list"
   ]
  },
  {
   "cell_type": "markdown",
   "metadata": {},
   "source": [
    "## sort\n",
    "- sort list in place\n",
    "- return nothing\n",
    "- sorting order can be reversed using reverse parameter by setting reverse=True"
   ]
  },
  {
   "cell_type": "code",
   "execution_count": null,
   "metadata": {},
   "outputs": [],
   "source": [
    "# Try sorting a list"
   ]
  },
  {
   "cell_type": "markdown",
   "metadata": {},
   "source": [
    "## Conversion to other data-structure\n",
    "- it is possible to convert List to Tuple or String and vice-versa"
   ]
  },
  {
   "cell_type": "code",
   "execution_count": null,
   "metadata": {},
   "outputs": [],
   "source": [
    "## List to tuple \n",
    "\n",
    "## Tuple to List\n",
    "\n",
    "## List to String\n",
    "\n",
    "## String to List"
   ]
  },
  {
   "cell_type": "markdown",
   "metadata": {},
   "source": [
    "## Multi-dimension list\n",
    "- List of list\n",
    "- List of tuple\n",
    "- List of tuple, list and string"
   ]
  },
  {
   "cell_type": "code",
   "execution_count": null,
   "metadata": {},
   "outputs": [],
   "source": [
    "# Multi lists"
   ]
  }
 ],
 "metadata": {
  "kernelspec": {
   "display_name": "Python 2",
   "language": "python",
   "name": "python2"
  },
  "language_info": {
   "codemirror_mode": {
    "name": "ipython",
    "version": 3
   },
   "file_extension": ".py",
   "mimetype": "text/x-python",
   "name": "python",
   "nbconvert_exporter": "python",
   "pygments_lexer": "ipython3",
   "version": "3.7.0"
  }
 },
 "nbformat": 4,
 "nbformat_minor": 2
}
