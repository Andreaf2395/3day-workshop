{
 "cells": [
  {
   "cell_type": "markdown",
   "metadata": {},
   "source": [
    "## <center>Strings </center>\n",
    "### <center>Author: e-Yantra Team </center>"
   ]
  },
  {
   "cell_type": "markdown",
   "metadata": {},
   "source": [
    "## Topics covered\n",
    "- Defining String\n",
    "- Indexing, Slicing\n",
    "- Various methods\n",
    "    - strip\n",
    "    - split\n",
    "    - find\n",
    "    - join\n",
    "    - count\n",
    "    - replace"
   ]
  },
  {
   "cell_type": "markdown",
   "metadata": {},
   "source": [
    "## Defining string\n",
    "\n",
    "- created by enclosing characters in quotes - single, double or triple quotes. \n",
    "- Python treats single quotes the same as double quotes "
   ]
  },
  {
   "cell_type": "code",
   "execution_count": null,
   "metadata": {},
   "outputs": [],
   "source": [
    "# Try string data type"
   ]
  },
  {
   "cell_type": "markdown",
   "metadata": {},
   "source": [
    "## String Operators\n",
    "\n",
    "- \"+\" : Concatenation - Adds multiple strings\n",
    "- \"*\" : Repetition - repeat multiple string\n",
    "- Membership check operator - check if character or substring is present in the string\n",
    "    - \"in\": Return True if character/substring exsist\n",
    "    - \"not in\": Return False if character/substring exsist"
   ]
  },
  {
   "cell_type": "code",
   "execution_count": null,
   "metadata": {
    "scrolled": true
   },
   "outputs": [],
   "source": [
    "# Concatenation\n"
   ]
  },
  {
   "cell_type": "code",
   "execution_count": null,
   "metadata": {},
   "outputs": [],
   "source": [
    "# Repetition\n"
   ]
  },
  {
   "cell_type": "code",
   "execution_count": null,
   "metadata": {},
   "outputs": [],
   "source": [
    "# Membership\n"
   ]
  },
  {
   "cell_type": "markdown",
   "metadata": {},
   "source": [
    "## Accessing string using slicing and indexing\n",
    "\n",
    "- use the square brackets for slicing along with the index or indices to obtain your substring.\n",
    "- Indexing starts from 0.\n",
    "- variable name[a:b:c]\n",
    "    - here a is starting index and ends at b-1 index (note index starts from 0)\n",
    "      c is step size, default is 1\n",
    "- negative indexing - last element is also index as -1 going through -2,-3.. as we go towards left"
   ]
  },
  {
   "cell_type": "code",
   "execution_count": null,
   "metadata": {},
   "outputs": [],
   "source": [
    "# Try slicing"
   ]
  },
  {
   "cell_type": "markdown",
   "metadata": {},
   "source": [
    "## String Methods\n",
    "\n",
    "- len(str)     - returns length of string\n",
    "- count(str)   - count occurrence of 'str' in string\n",
    "- find(str)    - find 'str' in string. If found: return start index of first occurrance str, else return -1\n",
    "- index(str)   - same as find, but raises exception when str is not found\n",
    "- join(seq)    - join string represented as sequence into a string with a separator string between each string\n",
    "- replace()    - returns a copy of the string in which the occurrences of old have been replaced with new,                   optionally restricting the number of replacements to max.\n",
    "- split(str)   - return a list which has string of words separated by str\n",
    "- strip(str)   - remove occurrence of str from the beginning and the end of the string "
   ]
  },
  {
   "cell_type": "code",
   "execution_count": null,
   "metadata": {},
   "outputs": [],
   "source": [
    "# length, minimum value and maximum value\n"
   ]
  },
  {
   "cell_type": "code",
   "execution_count": null,
   "metadata": {},
   "outputs": [],
   "source": [
    "# Count occurrances\n"
   ]
  },
  {
   "cell_type": "code",
   "execution_count": null,
   "metadata": {
    "scrolled": true
   },
   "outputs": [],
   "source": [
    "# Index of occurrance using find\n"
   ]
  },
  {
   "cell_type": "code",
   "execution_count": null,
   "metadata": {
    "scrolled": true
   },
   "outputs": [],
   "source": [
    "# Index of occurrance using index\n"
   ]
  },
  {
   "cell_type": "code",
   "execution_count": null,
   "metadata": {},
   "outputs": [],
   "source": [
    "# Replace\n"
   ]
  },
  {
   "cell_type": "code",
   "execution_count": null,
   "metadata": {},
   "outputs": [],
   "source": [
    "# Joining each element of string\n"
   ]
  },
  {
   "cell_type": "code",
   "execution_count": null,
   "metadata": {},
   "outputs": [],
   "source": [
    "# strip string\n"
   ]
  },
  {
   "cell_type": "code",
   "execution_count": null,
   "metadata": {},
   "outputs": [],
   "source": [
    "# strip unwanted characters from beginning and end of string\n"
   ]
  }
 ],
 "metadata": {
  "kernelspec": {
   "display_name": "Python 2",
   "language": "python",
   "name": "python2"
  },
  "language_info": {
   "codemirror_mode": {
    "name": "ipython",
    "version": 3
   },
   "file_extension": ".py",
   "mimetype": "text/x-python",
   "name": "python",
   "nbconvert_exporter": "python",
   "pygments_lexer": "ipython3",
   "version": "3.7.0"
  }
 },
 "nbformat": 4,
 "nbformat_minor": 2
}
