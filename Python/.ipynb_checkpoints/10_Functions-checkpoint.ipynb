{
 "cells": [
  {
   "cell_type": "markdown",
   "metadata": {},
   "source": [
    "## <center>Functions in Python </center>\n",
    "### <center>Author: e-Yantra Team </center>\n"
   ]
  },
  {
   "cell_type": "markdown",
   "metadata": {},
   "source": [
    "### Why Functions"
   ]
  },
  {
   "cell_type": "markdown",
   "metadata": {},
   "source": [
    "- Code reusability\n",
    "- Abstraction\n",
    "- Testing becomes easy"
   ]
  },
  {
   "cell_type": "markdown",
   "metadata": {},
   "source": [
    "### Syntax"
   ]
  },
  {
   "cell_type": "markdown",
   "metadata": {},
   "source": [
    "```python\n",
    "def funcName(parameters):\n",
    "    # perform operations\n",
    "    returnStatement;\n",
    "```"
   ]
  },
  {
   "cell_type": "code",
   "execution_count": 1,
   "metadata": {},
   "outputs": [
    {
     "name": "stdout",
     "output_type": "stream",
     "text": [
      "Welcome to Python functions\n"
     ]
    }
   ],
   "source": [
    "def funcName():\n",
    "    print(\"Welcome to Python functions\");\n",
    "funcName(); # Function call"
   ]
  },
  {
   "cell_type": "markdown",
   "metadata": {},
   "source": [
    "### Function which returns sum of the two variables which are passed"
   ]
  },
  {
   "cell_type": "code",
   "execution_count": 2,
   "metadata": {},
   "outputs": [
    {
     "name": "stdout",
     "output_type": "stream",
     "text": [
      "6\n"
     ]
    }
   ],
   "source": [
    "def summation(a, b):\n",
    "    return a+b;\n",
    "\n",
    "print(summation(2, 4));"
   ]
  },
  {
   "cell_type": "markdown",
   "metadata": {},
   "source": [
    "### Below function takes two string arguments and returns concatenation of those two"
   ]
  },
  {
   "cell_type": "code",
   "execution_count": 3,
   "metadata": {},
   "outputs": [
    {
     "name": "stdout",
     "output_type": "stream",
     "text": [
      "Hello Python\n"
     ]
    }
   ],
   "source": [
    "def concat(x, y):\n",
    "    return x+y;\n",
    "\n",
    "print(concat(\"Hello\", \" Python\"));"
   ]
  },
  {
   "cell_type": "markdown",
   "metadata": {},
   "source": [
    "### Below function takes two arguments and returns returns two values after performing some operation"
   ]
  },
  {
   "cell_type": "code",
   "execution_count": 4,
   "metadata": {},
   "outputs": [
    {
     "name": "stdout",
     "output_type": "stream",
     "text": [
      "(20, 30)\n"
     ]
    }
   ],
   "source": [
    "def returnTwo(a, b):\n",
    "    a = a + 10;\n",
    "    b = b + 20;\n",
    "    return a, b;\n",
    "print(returnTwo(10, 10))"
   ]
  },
  {
   "cell_type": "markdown",
   "metadata": {},
   "source": [
    "### swap() function takes two arguments and swaps the content of the variables"
   ]
  },
  {
   "cell_type": "code",
   "execution_count": 20,
   "metadata": {},
   "outputs": [
    {
     "name": "stdout",
     "output_type": "stream",
     "text": [
      "Before swap -  4 5\n",
      "After swap -  5 4\n"
     ]
    }
   ],
   "source": [
    "def swap(a, b):\n",
    "    return(b, a);\n",
    "x = 4;\n",
    "y = 5;\n",
    "print(\"Before swap - \",x, y);\n",
    "x, y = swap(x,  y);\n",
    "print(\"After swap - \",x, y);"
   ]
  },
  {
   "cell_type": "markdown",
   "metadata": {},
   "source": [
    "### Below is the function which returns a list"
   ]
  },
  {
   "cell_type": "code",
   "execution_count": 21,
   "metadata": {},
   "outputs": [
    {
     "name": "stdout",
     "output_type": "stream",
     "text": [
      "[1, 2, 6, 3, 8]\n"
     ]
    }
   ],
   "source": [
    "def returnArray():\n",
    "    a = [1, 2, 6, 3, 8];\n",
    "    return a;\n",
    "print(returnArray())"
   ]
  },
  {
   "cell_type": "markdown",
   "metadata": {},
   "source": [
    "### Below function returns a boolean value"
   ]
  },
  {
   "cell_type": "code",
   "execution_count": 22,
   "metadata": {},
   "outputs": [
    {
     "name": "stdout",
     "output_type": "stream",
     "text": [
      "True\n"
     ]
    }
   ],
   "source": [
    "def returnBoolean(a, b):\n",
    "    if(a>b):\n",
    "        return True;\n",
    "    else:\n",
    "        return False;\n",
    "print(returnBoolean(5, 3))"
   ]
  },
  {
   "cell_type": "markdown",
   "metadata": {},
   "source": [
    "## Keyword Arguments"
   ]
  },
  {
   "cell_type": "markdown",
   "metadata": {},
   "source": [
    "### Below function is called with parameter names mentioned explicitely"
   ]
  },
  {
   "cell_type": "code",
   "execution_count": 28,
   "metadata": {},
   "outputs": [
    {
     "name": "stdout",
     "output_type": "stream",
     "text": [
      "ID - 1 \n",
      "Name - Naveen\n"
     ]
    }
   ],
   "source": [
    "def printDetails(ID, name):\n",
    "    print(\"ID - \"+str(ID),\"\\nName - \"+name);\n",
    "\n",
    "printDetails(name=\"Naveen\", ID=1);\n",
    "    "
   ]
  },
  {
   "cell_type": "markdown",
   "metadata": {},
   "source": [
    "## Variable Length Arguments"
   ]
  },
  {
   "cell_type": "code",
   "execution_count": 32,
   "metadata": {},
   "outputs": [
    {
     "name": "stdout",
     "output_type": "stream",
     "text": [
      "ID -  1\n",
      "Name -  Naveen\n",
      "IIT Bombay\n",
      "M. Tech CSE\n"
     ]
    }
   ],
   "source": [
    "def printDetails(ID, name, *varArg):\n",
    "    print(\"ID - \", ID);\n",
    "    print(\"Name - \", name);\n",
    "    for arg in varArg:\n",
    "        print(arg);\n",
    "printDetails(1, \"Naveen\", \"IIT Bombay\", \"M. Tech CSE\")"
   ]
  },
  {
   "cell_type": "markdown",
   "metadata": {},
   "source": [
    "## Local and Global Variables"
   ]
  },
  {
   "cell_type": "code",
   "execution_count": 33,
   "metadata": {},
   "outputs": [
    {
     "name": "stdout",
     "output_type": "stream",
     "text": [
      "10\n"
     ]
    }
   ],
   "source": [
    "a = 10;\n",
    "def func():\n",
    "    a = 15; # local to func()\n",
    "func()\n",
    "print(a) # prints the global a value"
   ]
  },
  {
   "cell_type": "code",
   "execution_count": 34,
   "metadata": {},
   "outputs": [
    {
     "name": "stdout",
     "output_type": "stream",
     "text": [
      "15\n"
     ]
    }
   ],
   "source": [
    "a = 10;\n",
    "def func():\n",
    "    global a;\n",
    "    a = 15; # refers to global a\n",
    "func()\n",
    "print(a) # prints the global a value"
   ]
  }
 ],
 "metadata": {
  "kernelspec": {
   "display_name": "Python 2",
   "language": "python",
   "name": "python2"
  },
  "language_info": {
   "codemirror_mode": {
    "name": "ipython",
    "version": 3
   },
   "file_extension": ".py",
   "mimetype": "text/x-python",
   "name": "python",
   "nbconvert_exporter": "python",
   "pygments_lexer": "ipython3",
   "version": "3.7.0"
  }
 },
 "nbformat": 4,
 "nbformat_minor": 2
}
