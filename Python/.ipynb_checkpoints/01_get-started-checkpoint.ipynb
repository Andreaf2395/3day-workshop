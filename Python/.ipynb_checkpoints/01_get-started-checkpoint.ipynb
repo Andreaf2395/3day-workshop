{
 "cells": [
  {
   "cell_type": "markdown",
   "metadata": {},
   "source": [
    "# <center>Getting Started with Python </center>\n",
    "## <center>Author: e-Yantra Team </center>"
   ]
  },
  {
   "cell_type": "markdown",
   "metadata": {},
   "source": [
    "<img src=\"python_img_logo.png\" alt=\"python prompt is command line\">"
   ]
  },
  {
   "cell_type": "markdown",
   "metadata": {},
   "source": [
    "<img src=\"popularity_of_python.png\" alt=\"python prompt is command line\">\n",
    "source : https://stackoverflow.blog/2017/09/06/incredible-growth-python/"
   ]
  },
  {
   "cell_type": "markdown",
   "metadata": {},
   "source": [
    "## Why Python ?\n",
    "- High level programming language\n",
    "- Designed to be easy to learn and master\n",
    "- Clean and clear syntax\n",
    "- Highly portable\n",
    "- Lots of libraries\n",
    "- Extremely readable code"
   ]
  },
  {
   "cell_type": "markdown",
   "metadata": {},
   "source": [
    "<img src=\"img.jpeg\" alt=\"python prompt is command line\">\n",
    "source : http://lpycot.appspot.com/"
   ]
  },
  {
   "cell_type": "markdown",
   "metadata": {},
   "source": [
    "## Topics covered in python workshop\n",
    "- Writing a Python script\n",
    "- Print and input\n",
    "- Basic data types\n",
    "- Strings\n",
    "- Lists\n",
    "- Dictionaries\n",
    "- Tuples\n",
    "- Conditional statements\n",
    "- Control structures\n",
    "- Loops\n",
    "- Functions\n",
    "- Modules\n",
    "- Numpy"
   ]
  },
  {
   "cell_type": "markdown",
   "metadata": {},
   "source": [
    "## Topics covered in this session\n",
    "- How to run an interactive python session in terminal\n",
    "- Understanding difference between Compiler and Interpreter\n",
    "- Running Python script\n",
    "- print statement\n",
    "- Escape Sequence\n",
    "- raw_input - return string, \n",
    "- reserved keywords\n",
    "- Code Comments"
   ]
  },
  {
   "cell_type": "markdown",
   "metadata": {},
   "source": [
    "## Interactive Python session in Terminal\n",
    "\n",
    "- Useful for testing small python code\n",
    "- Open Terminal -> type \"python\" and press Enter\n",
    "- Python prompt will open as shown in figure below\n",
    "<img src=\"python_prompt.png\" alt=\"python prompt is command line\">\n",
    "- To exit from prompt -> type exit() and press Enter"
   ]
  },
  {
   "cell_type": "markdown",
   "metadata": {},
   "source": [
    "## Running Python Program\n",
    "- Python program are saved a with a .py extension. Example: filename.py\n",
    "- Python program can be run from terminal by typing filename.py"
   ]
  },
  {
   "cell_type": "markdown",
   "metadata": {},
   "source": [
    "## How to print on console ?"
   ]
  },
  {
   "cell_type": "code",
   "execution_count": 6,
   "metadata": {},
   "outputs": [
    {
     "name": "stdout",
     "output_type": "stream",
     "text": [
      "Hello world\n"
     ]
    }
   ],
   "source": [
    "print \"Hello world\""
   ]
  },
  {
   "cell_type": "code",
   "execution_count": null,
   "metadata": {},
   "outputs": [],
   "source": [
    "print \"%s is a string, %d is a decimal integer and %.3f is floating number upto 3 decimal place\" %(\"Python\",4,3.33)"
   ]
  },
  {
   "cell_type": "code",
   "execution_count": 7,
   "metadata": {
    "scrolled": true
   },
   "outputs": [
    {
     "name": "stdout",
     "output_type": "stream",
     "text": [
      "1 2 3\n"
     ]
    }
   ],
   "source": [
    "## Avoiding new line with multiple prints \n",
    "\n",
    "print \"1\", \n",
    "print \"2\",\n",
    "print \"3\""
   ]
  },
  {
   "cell_type": "code",
   "execution_count": null,
   "metadata": {},
   "outputs": [],
   "source": [
    "print \"e-Yantra Robotics Competition({})-{} has around {} teams registered\".format(5,'eYRC',2017)"
   ]
  },
  {
   "cell_type": "markdown",
   "metadata": {},
   "source": [
    "##  How to input from user ?\n",
    "\n"
   ]
  },
  {
   "cell_type": "code",
   "execution_count": 9,
   "metadata": {},
   "outputs": [
    {
     "name": "stdout",
     "output_type": "stream",
     "text": [
      "Type your name and press enter: safdsad\n",
      "Welcome 'safdsad' to 5-days workshop\n",
      "<type 'str'>\n"
     ]
    }
   ],
   "source": [
    "name = raw_input(\"Type your name and press enter: \")     # raw_input reads a line from input and return it as string \n",
    "print \"Welcome '%s' to 5-days workshop\" %name\n",
    "# type of name\n",
    "# typecasting"
   ]
  },
  {
   "cell_type": "markdown",
   "metadata": {},
   "source": [
    "## Understanding difference between Compiler and Interpreter\n",
    " Compiler coverts the code as a whole from high level language to machine code whereas,\n",
    " Interpreter converts the code line by line from high language to machine code."
   ]
  },
  {
   "cell_type": "code",
   "execution_count": null,
   "metadata": {},
   "outputs": [],
   "source": [
    "test=input(\"This is an incorrect statement)\n",
    "test=test1+1\n",
    "test"
   ]
  },
  {
   "cell_type": "markdown",
   "metadata": {},
   "source": [
    "## Keywords\n",
    "- Keywords are reserved words which are used by language \n",
    "- Keywords can not be used as variable name\n",
    "\n",
    "### List of Keywords in python\n",
    "\n",
    "- and, exec, not, assert, finally, or, break, for, pass, class, from, print, continue, global, raise, del, \n",
    "- if, return, del, import,\ttry, elif, in, while, else, is, with, except, lambda, yield"
   ]
  },
  {
   "cell_type": "markdown",
   "metadata": {},
   "source": [
    "## Comments\n",
    "\n",
    "### Single Line comment\n",
    "\n",
    "use # for single line comment\n",
    "\n",
    "example: # This line is a comment and hence will not be executed\n",
    "\n",
    "### Multi Line comment\n",
    "use ''' (three single quotes) \n",
    "\n",
    "Note: This is not PEP-8 supported coding standard. Use multiple single line comment to conform to PEP-8.\n",
    "\n",
    "example: \n",
    "\n",
    "'''\n",
    "\n",
    "This is multiline comment\n",
    "\n",
    "This line will also be  commented out\n",
    "\n",
    "'''\n"
   ]
  },
  {
   "cell_type": "code",
   "execution_count": null,
   "metadata": {},
   "outputs": [],
   "source": [
    "'''\n",
    "This is an example to demonstrate single and multi-line comment\n",
    "\n",
    "Multi-line comment\n",
    "'''\n",
    "# single line comment\n",
    "\n",
    "print \"hello commenting\"     \n",
    "\n",
    "\n",
    "\n"
   ]
  }
 ],
 "metadata": {
  "kernelspec": {
   "display_name": "Python 2",
   "language": "python",
   "name": "python2"
  },
  "language_info": {
   "codemirror_mode": {
    "name": "ipython",
    "version": 2
   },
   "file_extension": ".py",
   "mimetype": "text/x-python",
   "name": "python",
   "nbconvert_exporter": "python",
   "pygments_lexer": "ipython2",
   "version": "2.7.12"
  }
 },
 "nbformat": 4,
 "nbformat_minor": 2
}
