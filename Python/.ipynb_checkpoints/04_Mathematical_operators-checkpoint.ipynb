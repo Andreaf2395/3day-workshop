{
 "cells": [
  {
   "cell_type": "markdown",
   "metadata": {},
   "source": [
    "## <center>Mathematical Operators </center>\n",
    "### <center>Author: e-Yantra Team </center>"
   ]
  },
  {
   "cell_type": "markdown",
   "metadata": {},
   "source": [
    "## Topics covered:\n",
    "\n",
    "- Basic Mathematical Operator - Addition, Subtraction, Multiplication, Division, Power"
   ]
  },
  {
   "cell_type": "code",
   "execution_count": null,
   "metadata": {},
   "outputs": [],
   "source": [
    "x = 4\n",
    "y = 2\n",
    "\n",
    "# print (x + y)      # Addition\n",
    "# print (x - y)      # Subtraction\n",
    "# print (x * y)      # Multiplication \n",
    "print (5 / 2.5)      # Division - return quotient\n",
    "print (5 // 2)     #(floored) quotient of x and y\n",
    "print (x % y)      # Modulus - return reminder\n",
    "print (x ** y)      # Power\n",
    "print (divmod(x,y)) # return quotient, reminder"
   ]
  },
  {
   "cell_type": "code",
   "execution_count": null,
   "metadata": {},
   "outputs": [],
   "source": [
    "print (abs(-10))"
   ]
  },
  {
   "cell_type": "code",
   "execution_count": null,
   "metadata": {},
   "outputs": [],
   "source": [
    "print (round(1.484,1))\n",
    "print (round(1.484,2))\n",
    "print (round(1.484,3))\n",
    "print (round(1.484,4))"
   ]
  },
  {
   "cell_type": "markdown",
   "metadata": {},
   "source": [
    "### Using math module\n",
    "\n",
    "use import math"
   ]
  },
  {
   "cell_type": "code",
   "execution_count": null,
   "metadata": {},
   "outputs": [],
   "source": [
    "import math as m\n",
    "\n",
    "print (m.ceil(2.33))\n",
    "print (m.floor(2.33))\n",
    "print (m.exp(1))      # exp(x) - return e**x\n",
    "print (m.pi)\n",
    "print (m.sqrt(16))"
   ]
  }
 ],
 "metadata": {
  "kernelspec": {
   "display_name": "Python 2",
   "language": "python",
   "name": "python2"
  },
  "language_info": {
   "codemirror_mode": {
    "name": "ipython",
    "version": 3
   },
   "file_extension": ".py",
   "mimetype": "text/x-python",
   "name": "python",
   "nbconvert_exporter": "python",
   "pygments_lexer": "ipython3",
   "version": "3.7.0"
  }
 },
 "nbformat": 4,
 "nbformat_minor": 2
}
