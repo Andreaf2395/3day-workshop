{
 "cells": [
  {
   "cell_type": "markdown",
   "metadata": {},
   "source": [
    "## <center>Loops </center>\n",
    "### <center>Author: e-Yantra Team </center>"
   ]
  },
  {
   "cell_type": "markdown",
   "metadata": {},
   "source": [
    "## Topics covered\n",
    "\n",
    "- While loop\n",
    "- for loop\n",
    "- nested loops\n",
    "- continue\n",
    "- break   "
   ]
  },
  {
   "cell_type": "markdown",
   "metadata": {},
   "source": [
    "## While Loop - Key Concept\n",
    "\n",
    "- Syntax: \n",
    "\n",
    "```python\n",
    "while(condition):\n",
    "    code_block\n",
    "```\n",
    "    \n",
    "- Infinite Loop\n",
    "\n",
    "```python\n",
    "while True:\n",
    "    code_block\n",
    "\n",
    "while(1):\n",
    "    code_block\n",
    "```    "
   ]
  },
  {
   "cell_type": "code",
   "execution_count": null,
   "metadata": {},
   "outputs": [],
   "source": [
    "i = 0\n",
    "\n",
    "while i<5:\n",
    "    print (i*i)\n",
    "    i += 1"
   ]
  },
  {
   "cell_type": "markdown",
   "metadata": {},
   "source": [
    "## Range function\n",
    "\n",
    "Syntax: range (arg1, arg2, arg3)\n",
    "\n",
    "- First argument: start value \n",
    "- Second argument: stop value\n",
    "- Third argument: step-size. \n",
    "\n",
    "The range function returns a list of values from the start value to the stop value (not included), moving in steps of size given by the step-size argument."
   ]
  },
  {
   "cell_type": "code",
   "execution_count": null,
   "metadata": {},
   "outputs": [],
   "source": [
    "for i in range (0,5):\n",
    "    print (i)"
   ]
  },
  {
   "cell_type": "code",
   "execution_count": null,
   "metadata": {},
   "outputs": [],
   "source": [
    "for i in range(0,10,2):\n",
    "    print (i*i)"
   ]
  },
  {
   "cell_type": "code",
   "execution_count": null,
   "metadata": {},
   "outputs": [],
   "source": [
    "while True:\n",
    "    user_input = input()\n",
    "    if user_input == \"quit\":\n",
    "        print (\"thank you!\")\n",
    "        break\n",
    "    else:\n",
    "        print (\"You typed '%s'\" %user_input)\n",
    "        "
   ]
  },
  {
   "cell_type": "code",
   "execution_count": null,
   "metadata": {},
   "outputs": [],
   "source": [
    "for i in range (1,5):\n",
    "    for j in range (1,5):\n",
    "        print (\"%d * %d = %d\" %(i,j,i*j))"
   ]
  },
  {
   "cell_type": "markdown",
   "metadata": {},
   "source": [
    "## break statement\n",
    "\n",
    "- used to break out of the innermost loop. \n",
    "\n",
    "Example: The while loop to print the squares of all the numbers upto 5, can be modified using the break statement."
   ]
  },
  {
   "cell_type": "code",
   "execution_count": null,
   "metadata": {},
   "outputs": [],
   "source": [
    "i = 0\n",
    "\n",
    "while (1):\n",
    "    print (i*i)\n",
    "    i += 1\n",
    "    if i == 5:\n",
    "        break"
   ]
  },
  {
   "cell_type": "markdown",
   "metadata": {},
   "source": [
    "## Continue statement\n",
    "\n",
    "- used to skip execution of the rest of the loop on this iteration and continue to the end of the iteration.\n",
    "\n",
    "Example: \n",
    "\n",
    "Modify the program to print squares of all number other than zero and one"
   ]
  },
  {
   "cell_type": "code",
   "execution_count": null,
   "metadata": {},
   "outputs": [],
   "source": [
    "i = 0\n",
    "\n",
    "while (i<5):\n",
    "    if i<2:\n",
    "        i += 1\n",
    "        continue\n",
    "    \n",
    "    print (i*i)\n",
    "    i += 1\n",
    "    "
   ]
  }
 ],
 "metadata": {
  "kernelspec": {
   "display_name": "Python 2",
   "language": "python",
   "name": "python2"
  },
  "language_info": {
   "codemirror_mode": {
    "name": "ipython",
    "version": 3
   },
   "file_extension": ".py",
   "mimetype": "text/x-python",
   "name": "python",
   "nbconvert_exporter": "python",
   "pygments_lexer": "ipython3",
   "version": "3.7.0"
  }
 },
 "nbformat": 4,
 "nbformat_minor": 2
}
