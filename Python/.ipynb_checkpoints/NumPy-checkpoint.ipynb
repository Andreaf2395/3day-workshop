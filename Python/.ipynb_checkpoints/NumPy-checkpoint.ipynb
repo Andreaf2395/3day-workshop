{
 "cells": [
  {
   "cell_type": "markdown",
   "metadata": {},
   "source": [
    "## <center> NumPy </center>\n",
    "### <center>Author: e-Yantra Team </center>"
   ]
  },
  {
   "cell_type": "markdown",
   "metadata": {},
   "source": [
    "## Topics covered\n",
    "- Why NumPy\n",
    "- Creating a NumPy Array\n",
    "- Features of NumPy Array\n",
    "- Basic operations\n",
    "- Indexing, slicing, check membership\n",
    "- Iterating"
   ]
  },
  {
   "cell_type": "markdown",
   "metadata": {},
   "source": [
    "## Why NumPy\n",
    "- Try defining a matrix A=[1,2,3] and B=[1,2,3]' and multiply A*B"
   ]
  },
  {
   "cell_type": "code",
   "execution_count": null,
   "metadata": {},
   "outputs": [],
   "source": [
    "A=[1,2,3]\n",
    "B=[[1],[2],[3]]\n",
    "A*B"
   ]
  },
  {
   "cell_type": "markdown",
   "metadata": {},
   "source": [
    "## Creating a Numpy Array\n",
    "- Numpy module is required to be imported to create NumPy Array\n",
    "- Create Array as numpy.array([..array..])\n",
    "- Creating an array of zeros and ones\n",
    "- Creating a sequence of n ascending integers starting from 0"
   ]
  },
  {
   "cell_type": "code",
   "execution_count": null,
   "metadata": {},
   "outputs": [],
   "source": [
    "import numpy as np\n",
    "A=np.array([[1,2,3],[4,5,6]])\n",
    "print A\n",
    "Z=np.zeros((1,3),dtype=int)\n",
    "print Z\n",
    "O=np.ones((1,3),dtype=int)\n",
    "print O\n",
    "B=np.arange(15)\n",
    "print B"
   ]
  },
  {
   "cell_type": "markdown",
   "metadata": {},
   "source": [
    "## Features of a Numpy Array\n",
    "- Dimensions            -->> array_name.ndim\n",
    "- Shape                 -->> array_name.shape\n",
    "- Number of elements                -->> array_name.size     \n",
    "- Data type             -->> array_name.dtype\n",
    "- Size of each element in bytes    -->> array_name.itemsize"
   ]
  },
  {
   "cell_type": "code",
   "execution_count": null,
   "metadata": {},
   "outputs": [],
   "source": [
    "import numpy as np\n",
    "A=np.array([[1,2,3],[4,5,6]])\n",
    "print A.ndim\n",
    "print A.shape\n",
    "print A.size\n",
    "print A.itemsize\n",
    "print A.dtype"
   ]
  },
  {
   "cell_type": "markdown",
   "metadata": {},
   "source": [
    "## Basic Operations\n",
    "- Addition\n",
    "- Subtraction \n",
    "- Multiplication\n",
    "Note: Arithmetic operators on arrays apply elementwise. \n",
    "- Reshape"
   ]
  },
  {
   "cell_type": "code",
   "execution_count": null,
   "metadata": {},
   "outputs": [],
   "source": [
    "import numpy as np\n",
    "A=np.array([[1,2],[3,4]])\n",
    "B=np.array([[1,2],[3,4]])\n",
    "print A+B\n",
    "print A-B\n",
    "print A*B\n",
    "print np.dot(A,B)\n",
    "C=np.reshape(B,(4,1))\n",
    "print C"
   ]
  },
  {
   "cell_type": "markdown",
   "metadata": {},
   "source": [
    "## Indexing, slicing and member checking\n",
    "- Similar to what we studied with other python datatypes"
   ]
  },
  {
   "cell_type": "code",
   "execution_count": null,
   "metadata": {},
   "outputs": [],
   "source": [
    "import numpy as np\n",
    "A=np.arange(10)\n",
    "print A[3]\n",
    "print A[0:9:2]\n",
    "print 10 in A"
   ]
  },
  {
   "cell_type": "markdown",
   "metadata": {},
   "source": [
    "## Iterating elements of NumPy Array\n"
   ]
  },
  {
   "cell_type": "code",
   "execution_count": null,
   "metadata": {},
   "outputs": [],
   "source": [
    "import numpy as np\n",
    "A=np.array([1,2,3,4,5])\n",
    "for i in A:\n",
    "    print i*i"
   ]
  }
 ],
 "metadata": {
  "kernelspec": {
   "display_name": "Python 2",
   "language": "python",
   "name": "python2"
  },
  "language_info": {
   "codemirror_mode": {
    "name": "ipython",
    "version": 2
   },
   "file_extension": ".py",
   "mimetype": "text/x-python",
   "name": "python",
   "nbconvert_exporter": "python",
   "pygments_lexer": "ipython2",
   "version": "2.7.14"
  }
 },
 "nbformat": 4,
 "nbformat_minor": 2
}
