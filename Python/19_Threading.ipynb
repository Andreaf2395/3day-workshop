{
 "cells": [
  {
   "cell_type": "markdown",
   "metadata": {},
   "source": [
    "### <center>Threading in Python </center>\n",
    "### <center>Author: e-Yantra Team </center>"
   ]
  },
  {
   "cell_type": "markdown",
   "metadata": {},
   "source": [
    "# Thread    "
   ]
  },
  {
   "cell_type": "code",
   "execution_count": 5,
   "metadata": {},
   "outputs": [
    {
     "name": "stdout",
     "output_type": "stream",
     "text": [
      "45\n"
     ]
    }
   ],
   "source": [
    "#https://stackoverflow.com/questions/2846653/how-to-use-threading-in-python\n",
    "\n",
    "import threading\n",
    "\n",
    "class SummingThread(threading.Thread):\n",
    "     def __init__(self,low,high):\n",
    "         super(SummingThread, self).__init__()\n",
    "         self.low=low\n",
    "         self.high=high\n",
    "         self.total=0\n",
    "\n",
    "     def run(self):\n",
    "         for i in range(self.low,self.high):\n",
    "             self.total+=i\n",
    "\n",
    "\n",
    "thread1 = SummingThread(0,5)\n",
    "thread2 = SummingThread(5,10)\n",
    "thread1.start() # This actually causes the thread to run\n",
    "thread2.start()\n",
    "thread1.join()  # This waits until the thread has completed\n",
    "thread2.join()  \n",
    "# At this point, both threads have completed\n",
    "result = thread1.total + thread2.total\n",
    "print(result)"
   ]
  },
  {
   "cell_type": "code",
   "execution_count": 3,
   "metadata": {},
   "outputs": [
    {
     "name": "stdout",
     "output_type": "stream",
     "text": [
      "0\n",
      "0\n",
      "51\n",
      "11\n",
      "18\n",
      "26\n",
      "35\n",
      "45\n",
      "\n",
      "3\n",
      "6\n",
      "10\n",
      "10 45\n",
      "\n",
      "\n"
     ]
    }
   ],
   "source": [
    "#https://stackoverflow.com/questions/2846653/how-to-use-threading-in-python\n",
    "\n",
    "import os\n",
    "import sys\n",
    "import math\n",
    "import threading\n",
    "\n",
    "class SummingThread(threading.Thread):\n",
    "     def __init__(self,low,high):\n",
    "         super(SummingThread, self).__init__()\n",
    "         self.low=low\n",
    "         self.high=high\n",
    "         self.total=0\n",
    "\n",
    "     def run(self):\n",
    "         for i in range(self.low,self.high):\n",
    "             self.total+=i\n",
    "             print(self.total)\n",
    "\n",
    "\n",
    "class Main_Thread(threading.Thread):\n",
    "     result = 0\n",
    "         \n",
    "     def __init__(self,low,high):\n",
    "         super(Main_Thread, self).__init__()\n",
    "         self.low = low\n",
    "         self.high  = high\n",
    "\n",
    "     def run(self):\n",
    "         thread1 = SummingThread(self.low,self.high)\n",
    "         thread2 = SummingThread(self.high,(self.high*2)+1)\n",
    "         thread1.start() # This actually causes the thread to run\n",
    "         thread2.start()\n",
    "         thread1.join()\n",
    "         thread2.join()\n",
    "         print(thread1.total,thread2.total)\n",
    "         print(\"\\n\")\n",
    "         # At this point, both threads have completed\n",
    "         self.result = thread1.total + thread2.total\n",
    "         \n",
    "         \n",
    "\n",
    "mt = Main_Thread(0,5)\n",
    "mt.start()\n",
    "print(mt.result)\n",
    "mt.join()"
   ]
  },
  {
   "cell_type": "code",
   "execution_count": null,
   "metadata": {},
   "outputs": [],
   "source": []
  }
 ],
 "metadata": {
  "kernelspec": {
   "display_name": "Python 3",
   "language": "python",
   "name": "python3"
  },
  "language_info": {
   "codemirror_mode": {
    "name": "ipython",
    "version": 3
   },
   "file_extension": ".py",
   "mimetype": "text/x-python",
   "name": "python",
   "nbconvert_exporter": "python",
   "pygments_lexer": "ipython3",
   "version": "3.5.2"
  }
 },
 "nbformat": 4,
 "nbformat_minor": 2
}
