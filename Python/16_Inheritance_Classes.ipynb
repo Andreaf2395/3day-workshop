{
 "cells": [
  {
   "cell_type": "markdown",
   "metadata": {},
   "source": [
    "### <center>Inheritance of Classes in Python</center>\n",
    "### <center>Author: e-Yantra Team </center>"
   ]
  },
  {
   "cell_type": "markdown",
   "metadata": {},
   "source": [
    "# Classes declaration (recap):\n",
    "    "
   ]
  },
  {
   "cell_type": "code",
   "execution_count": null,
   "metadata": {},
   "outputs": [],
   "source": [
    "class Rectangle(Geometric_Shape):\n",
    "    # contains member variables\n",
    "    # contains member methods   "
   ]
  },
  {
   "cell_type": "markdown",
   "metadata": {},
   "source": [
    "# Inheritance in Class"
   ]
  },
  {
   "cell_type": "markdown",
   "metadata": {},
   "source": [
    "- Inheritance is the ability to create a new class from a pre-existing class; without modifying the pre-existing class at all!!!"
   ]
  },
  {
   "cell_type": "markdown",
   "metadata": {},
   "source": [
    "# Constructor of \"Inherited\" Class"
   ]
  },
  {
   "cell_type": "code",
   "execution_count": null,
   "metadata": {},
   "outputs": [],
   "source": [
    "# its own constructor with few or more params\n",
    "def __init__(self, name = \"Rectangle\", num_edges = 4, num_vertices = 4):\n",
    "    \n",
    "or    \n",
    "  \n",
    "# calling parent or base class constructor via \"super\" keyword    \n",
    "def __init__(self, name = \"Rectangle\", num_edges = 4, num_vertices = 4):\n",
    "    # will call construtor of parent class\n",
    "    super().__init__()\n",
    "    #followed by its own processing in constructor"
   ]
  },
  {
   "cell_type": "markdown",
   "metadata": {},
   "source": [
    "- Object of Child class can call methods or access attributes of parent class directly"
   ]
  },
  {
   "cell_type": "markdown",
   "metadata": {},
   "source": [
    "# Class Geometric Shape"
   ]
  },
  {
   "cell_type": "code",
   "execution_count": null,
   "metadata": {},
   "outputs": [],
   "source": [
    "class Geometric_Shape():\n",
    "    # member variables\n",
    "    \n",
    "    \n",
    "    # constructor\n",
    "    def __init__(self, name, num_edges, num_vertices, height, width, area):\n",
    "        self.name = name\n",
    "        self.num_edges = num_edges\n",
    "        self.num_vertices = num_vertices\n",
    "        self.height = 10\n",
    "        self.width = 20\n",
    "        self.area = 0\n",
    "\n",
    "\n",
    "    \n",
    "    # member method\n",
    "    def Area_Shape(self):\n",
    "        if(self.num_edges == 4):\n",
    "            self.area = self.height * self.width\n",
    "            return self.area"
   ]
  },
  {
   "cell_type": "markdown",
   "metadata": {},
   "source": [
    "# Class Rectangle"
   ]
  },
  {
   "cell_type": "code",
   "execution_count": null,
   "metadata": {},
   "outputs": [],
   "source": [
    "class Rectangle(Geometric_Shape):\n",
    "    def __init__(self, name = \"Rectangle\", num_edges = 4, num_vertices = 4):\n",
    "        self.name = name\n",
    "        self.num_edges = num_edges\n",
    "        self.num_vertices = num_vertices\n",
    "\n",
    "    def init_edge_lenths(self, height,width):\n",
    "        self.height = height\n",
    "        self.width = width"
   ]
  },
  {
   "cell_type": "markdown",
   "metadata": {},
   "source": [
    "# Program"
   ]
  },
  {
   "cell_type": "code",
   "execution_count": null,
   "metadata": {},
   "outputs": [],
   "source": [
    "sample_square = Rectangle(name = \"Square\")\n",
    "print(\"shape : %s\"%sample_square.name)\n",
    "print(\"number of edges: %s\"%sample_square.num_edges)\n",
    "print(\"number of vertices: %s\"%sample_square.num_vertices)\n",
    "\n",
    "\n",
    "sample_square.init_edge_lenths(20,20)\n",
    "print(\"height of the square: %s\"%sample_square.height)\n",
    "print(\"width of the square: %s\"%sample_square.width)\n",
    "print(\"area of the square: %s\"%sample_square.Area_Shape())"
   ]
  },
  {
   "cell_type": "markdown",
   "metadata": {},
   "source": [
    "# Result"
   ]
  },
  {
   "attachments": {
    "square.png": {
     "image/png": "[encoded data removed]"
    }
   },
   "cell_type": "markdown",
   "metadata": {},
   "source": [
    "![square.png](attachment:square.png)"
   ]
  }
 ],
 "metadata": {
  "kernelspec": {
   "display_name": "Python 3",
   "language": "python",
   "name": "python3"
  },
  "language_info": {
   "codemirror_mode": {
    "name": "ipython",
    "version": 3
   },
   "file_extension": ".py",
   "mimetype": "text/x-python",
   "name": "python",
   "nbconvert_exporter": "python",
   "pygments_lexer": "ipython3",
   "version": "3.5.2"
  }
 },
 "nbformat": 4,
 "nbformat_minor": 2
}
