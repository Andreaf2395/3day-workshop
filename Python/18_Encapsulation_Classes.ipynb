{
 "cells": [
  {
   "cell_type": "markdown",
   "metadata": {},
   "source": [
    "### <center>Encapsulation in Classes of Python</center>\n",
    "### <center>Author: e-Yantra Team </center>"
   ]
  },
  {
   "cell_type": "markdown",
   "metadata": {},
   "source": [
    "# Simple Base Classes declaration (recap):\n",
    "    "
   ]
  },
  {
   "cell_type": "code",
   "execution_count": null,
   "metadata": {},
   "outputs": [],
   "source": [
    "class Geometric_Shape():\n",
    "    # contains member variables\n",
    "    # contains member methods   "
   ]
  },
  {
   "cell_type": "markdown",
   "metadata": {},
   "source": [
    "# Encapsulation in Class"
   ]
  },
  {
   "cell_type": "markdown",
   "metadata": {},
   "source": [
    "- to encapsulate means to \"enclose\" in\n",
    "\n",
    "- to achieve encapsulation in a class; access modifiers are used \n",
    "\n",
    "- access modifiers enable or restrict the access to elements of a class\n"
   ]
  },
  {
   "cell_type": "markdown",
   "metadata": {},
   "source": [
    "# Types of Access Modifiers"
   ]
  },
  {
   "cell_type": "markdown",
   "metadata": {},
   "source": [
    "- Public: accessible to all and the default scope in Python\n",
    "\n",
    "- Protected: accessible only within the class and it's child classes\n",
    "            prefixed with a single _ (underscore) in front of the member variable or method   \n",
    "\n",
    "- Private: accessible to none except the class it belongs to\n",
    "           prefixed with at least two __(underscores) and suffixed with at most one _ (underscore) "
   ]
  },
  {
   "cell_type": "markdown",
   "metadata": {},
   "source": [
    "# Class declaration (example):"
   ]
  },
  {
   "cell_type": "code",
   "execution_count": null,
   "metadata": {},
   "outputs": [],
   "source": [
    "class Geometric_Shape():\n",
    "    # member variables\n",
    "    \n",
    "    \n",
    "    # constructor\n",
    "    def __init__(self, name, num_edges, num_vertices):\n",
    "        self.name = name\n",
    "        self.num_edges = num_edges\n",
    "        self.num_vertices = num_vertices\n",
    "        self._height = 25 # (protected)\n",
    "        self._width =  # (protected)\n",
    "        self.__area = 0 # (private)\n",
    "\n",
    "\n",
    "    \n",
    "    # member method\n",
    "    def Area_Shape(self):\n",
    "        if(self.num_edges == 3):\n",
    "            self.__area = 0.5 * self._height * self._width\n",
    "            print(\"area of the triangle: %s\"%self.__area)"
   ]
  },
  {
   "cell_type": "markdown",
   "metadata": {},
   "source": [
    "# Encapsulation usage:"
   ]
  },
  {
   "cell_type": "code",
   "execution_count": null,
   "metadata": {},
   "outputs": [],
   "source": [
    "# creating a triangular object\n",
    "sample_triangle = Geometric_Shape(name = \"Triangle\",num_edges=3,num_vertices=3)\n",
    "\n",
    "# display the value of the private member variable \"area\"\n",
    "sample_triangle.Area_Shape()"
   ]
  },
  {
   "attachments": {
    "encapsulation.png": {
     "image/png": "[encoded data removed]"
    }
   },
   "cell_type": "markdown",
   "metadata": {},
   "source": [
    "![encapsulation.png](attachment:encapsulation.png)"
   ]
  }
 ],
 "metadata": {
  "kernelspec": {
   "display_name": "Python 3",
   "language": "python",
   "name": "python3"
  },
  "language_info": {
   "codemirror_mode": {
    "name": "ipython",
    "version": 3
   },
   "file_extension": ".py",
   "mimetype": "text/x-python",
   "name": "python",
   "nbconvert_exporter": "python",
   "pygments_lexer": "ipython3",
   "version": "3.5.2"
  }
 },
 "nbformat": 4,
 "nbformat_minor": 2
}
