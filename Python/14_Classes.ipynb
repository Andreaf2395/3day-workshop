{
 "cells": [
  {
   "cell_type": "markdown",
   "metadata": {},
   "source": [
    "### <center>Classes in Python </center>\n",
    "### <center>Author: e-Yantra Team </center>"
   ]
  },
  {
   "cell_type": "markdown",
   "metadata": {},
   "source": [
    "# Class\n",
    "    "
   ]
  },
  {
   "cell_type": "markdown",
   "metadata": {},
   "source": [
    "- a set of things having same properties and differentiated from others by kind, type, or quality\n",
    "\n",
    "- helps in modularizing a software program by categorising similar processes and elements together"
   ]
  },
  {
   "cell_type": "markdown",
   "metadata": {},
   "source": [
    "# Class and Modularity"
   ]
  },
  {
   "cell_type": "markdown",
   "metadata": {},
   "source": [
    "- a class has well defined interfaces for Input-Output and processing of elements\n",
    "- a class once defined does not require modifications"
   ]
  },
  {
   "cell_type": "markdown",
   "metadata": {},
   "source": [
    "# What is a Class in Software?"
   ]
  },
  {
   "cell_type": "markdown",
   "metadata": {},
   "source": [
    "It is a collection of:\n",
    "\n",
    "- data variables\n",
    "- functions\n",
    "\n",
    "called \"data members\" and \"methods\"\n",
    "\n",
    "The data members represent \"attributes\"\n",
    "\n",
    "The methods define the \"behaviour\" or \"processes\"\n",
    "\n",
    "Class is an unique set of properties and processes common to one type of functionality in a larger software program"
   ]
  },
  {
   "cell_type": "markdown",
   "metadata": {},
   "source": [
    "# Object"
   ]
  },
  {
   "cell_type": "markdown",
   "metadata": {},
   "source": [
    "- It is a specific type of self-contained component\n",
    "\n",
    "- It is an outward interface for the class it represents"
   ]
  },
  {
   "cell_type": "markdown",
   "metadata": {},
   "source": [
    "Object-Oriented Programming(OOP) models real-world entities as software \"objects\", which have some 'data' associated with them and can perform certain 'functions'[1]\n",
    "\n",
    "Python being an OOP language has classes and objects too!!!\n",
    "\n",
    "Hence the concepts of:\n",
    " - Inheritance\n",
    " - Polymorphism\n",
    " - Encapsulation \n",
    "\n",
    "are pertinent to Python classes\n",
    "\n",
    "\n",
    "\n",
    "We will look at access modifiers -\n",
    " - Public\n",
    " - Private\n",
    " - Protected\n",
    " \n",
    "in detail when we see the examples of \"Encapsulation\""
   ]
  },
  {
   "cell_type": "markdown",
   "metadata": {},
   "source": [
    "# How to declare a \"class\" in Python -"
   ]
  },
  {
   "cell_type": "markdown",
   "metadata": {},
   "source": [
    "- The name of the class is preceeded by the keyword \"class\" and followed by a pair of circular brackets (in case of inheritance) and a colon\n",
    "\n",
    "class \"classname\": \n",
    "\n",
    "or\n",
    "\n",
    "class \"classname\"(\"parent classname\"):\n",
    "\n",
    "where \"classname\" is the name we give the class based on the attributes and functionality it performs!"
   ]
  },
  {
   "cell_type": "code",
   "execution_count": null,
   "metadata": {},
   "outputs": [],
   "source": [
    "class Geometric_Shape():\n",
    "    # contains member variables\n",
    "    # contains member methods\n",
    "    \n",
    "or\n",
    "    \n",
    "class Rectangle(Geometric_Shape):"
   ]
  },
  {
   "cell_type": "code",
   "execution_count": null,
   "metadata": {},
   "outputs": [],
   "source": [
    "class Geometric_Shape():\n",
    "    #member variables\n",
    "    height = 10\n",
    "    width = 20\n",
    "    area = 0\n",
    "    \n",
    "\n",
    "class Rectangle(Geometric_Shape):    \n",
    "    #member method\n",
    "    def AreaRectangle():\n",
    "        area = height * width\n",
    "        return area"
   ]
  }
 ],
 "metadata": {
  "kernelspec": {
   "display_name": "Python 3",
   "language": "python",
   "name": "python3"
  },
  "language_info": {
   "codemirror_mode": {
    "name": "ipython",
    "version": 3
   },
   "file_extension": ".py",
   "mimetype": "text/x-python",
   "name": "python",
   "nbconvert_exporter": "python",
   "pygments_lexer": "ipython3",
   "version": "3.5.2"
  }
 },
 "nbformat": 4,
 "nbformat_minor": 2
}
