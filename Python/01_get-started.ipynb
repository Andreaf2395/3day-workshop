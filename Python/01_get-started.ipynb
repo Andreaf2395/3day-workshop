{
 "cells": [
  {
   "cell_type": "markdown",
   "metadata": {},
   "source": [
    "# <center>Getting Started with Python </center>\n",
    "#### <center>Author: e-Yantra Team </center><img float=\"left\" src=\"python_img_logo.png\" alt=\"python prompt is command line\">"
   ]
  },
  {
   "cell_type": "markdown",
   "metadata": {},
   "source": [
    "## Starting and Growth of Python\n",
    "- Interpreted high-level programming language for general-purpose programming\n",
    "- Created by Guido van Rossum and first released in 1991\n",
    "- Design philosophy that emphasizes code readability\n",
    "- Extraordinary growth of the Python programming language in the last five years, as seen by Stack Overflow traffic within high-income countries\n"
   ]
  },
  {
   "cell_type": "markdown",
   "metadata": {},
   "source": [
    "<img src=\"popularity_of_python.png\" alt=\"python prompt is command line\" width=\"800\" height=\"300\">\n",
    "source : https://stackoverflow.blog/2017/09/06/incredible-growth-python/"
   ]
  },
  {
   "cell_type": "markdown",
   "metadata": {},
   "source": [
    "## Why Python ?\n",
    "- High level programming language\n",
    "- Designed to be easy to learn and master\n",
    "- Clean and clear syntax\n",
    "- Highly portable\n",
    "- Lots of libraries\n",
    "- Extremely readable code"
   ]
  },
  {
   "cell_type": "markdown",
   "metadata": {},
   "source": [
    "<img src=\"img.jpeg\" alt=\"python prompt is command line\">\n",
    "source : http://lpycot.appspot.com/"
   ]
  },
  {
   "cell_type": "markdown",
   "metadata": {},
   "source": [
    "## Topics covered in python workshop\n",
    "- Writing a Python script\n",
    "- Print and input\n",
    "- Basic data types\n",
    "- Strings\n",
    "- Lists\n",
    "- Dictionaries\n",
    "- Tuples\n",
    "- Conditional statements\n",
    "- Control structures\n",
    "- Loops\n",
    "- Functions\n",
    "- Modules\n",
    "- Numpy"
   ]
  },
  {
   "cell_type": "markdown",
   "metadata": {},
   "source": [
    "## Topics covered in this session\n",
    "- Using Jupyter Notebook\n",
    "- Understanding difference between Compiler and Interpreter\n",
    "- print statement\n",
    "- Escape Sequence\n",
    "- raw_input - return string, \n",
    "- reserved keywords\n",
    "- Code Comments\n",
    "- Running Python script using terminal\n"
   ]
  },
  {
   "cell_type": "markdown",
   "metadata": {},
   "source": [
    "## Getting familiar with jupyter notebook"
   ]
  },
  {
   "cell_type": "markdown",
   "metadata": {},
   "source": [
    "- Web application that allows you to run live code, embed visualization and explanatory text all in one place\n",
    "- Support 40 programming languages\n",
    "- Notebooks can be shared with email, Dropbox, Github\n",
    "- Sample jupyter notebook : https://nbviewer.jupyter.org/gist/minrk/4358066/Gun%20Data.ipynb\n",
    "- You can even embed videos in jupyter notebook \n",
    "- You can even embed videos in jupyter notebook "
   ]
  },
  {
   "cell_type": "code",
   "execution_count": null,
   "metadata": {},
   "outputs": [],
   "source": [
    "from IPython.display import HTML\n",
    "\n",
    "# Youtube\n",
    "HTML('<iframe width=\"560\" height=\"315\" src=\"https://www.youtube.com/embed/qqHkhZfIlg8?rel=0&amp;controls=0&amp;showinfo=0\" frameborder=\"0\" allowfullscreen></iframe>')"
   ]
  },
  {
   "cell_type": "markdown",
   "metadata": {},
   "source": [
    "## Running Python Program\n",
    "- Python program are saved a with a .py extension. Example: filename.py\n",
    "- Python program can be run in jupyter notebook by just pressing Shift + Enter"
   ]
  },
  {
   "cell_type": "markdown",
   "metadata": {},
   "source": [
    "## Shortcut Keys in Jupyter Notebook"
   ]
  },
  {
   "cell_type": "markdown",
   "metadata": {},
   "source": [
    "- To run a cell  : Shift + Enter\n",
    "- To copy cell   : C\n",
    "- To paste cell  : V\n",
    "- To delete cell : DD\n",
    "- To undo        : Z"
   ]
  },
  {
   "cell_type": "markdown",
   "metadata": {},
   "source": [
    "## Interactive Python session in Terminal\n",
    "\n",
    "- Useful for testing small python code\n",
    "- Open Terminal -> type \"python\" and press Enter\n",
    "- Python prompt will open as shown in figure below\n",
    "<img src=\"python_prompt.png\" alt=\"python prompt is command line\">\n",
    "- To exit from prompt -> type exit() and press Enter"
   ]
  },
  {
   "cell_type": "markdown",
   "metadata": {},
   "source": [
    "## Python version in Jupyter Notebook"
   ]
  },
  {
   "cell_type": "code",
   "execution_count": null,
   "metadata": {
    "scrolled": false
   },
   "outputs": [],
   "source": [
    "#check python version"
   ]
  },
  {
   "cell_type": "markdown",
   "metadata": {},
   "source": [
    "## Running Python Program\n",
    "- Python program are saved a with a .py extension. Example: filename.py\n",
    "- Python program can be run in jupyter notebook by just pressing Shift + Enter"
   ]
  },
  {
   "cell_type": "markdown",
   "metadata": {},
   "source": [
    "## How to print on console ?"
   ]
  },
  {
   "cell_type": "code",
   "execution_count": null,
   "metadata": {},
   "outputs": [],
   "source": [
    "# Try print command\n"
   ]
  },
  {
   "cell_type": "code",
   "execution_count": null,
   "metadata": {},
   "outputs": [],
   "source": [
    "# Try print using format strings"
   ]
  },
  {
   "cell_type": "code",
   "execution_count": null,
   "metadata": {
    "scrolled": true
   },
   "outputs": [],
   "source": [
    "## Avoiding new line with multiple prints "
   ]
  },
  {
   "cell_type": "code",
   "execution_count": null,
   "metadata": {},
   "outputs": [],
   "source": [
    "# print using .format"
   ]
  },
  {
   "cell_type": "markdown",
   "metadata": {},
   "source": [
    "##  How to input from user ?\n",
    "\n"
   ]
  },
  {
   "cell_type": "code",
   "execution_count": null,
   "metadata": {},
   "outputs": [],
   "source": [
    "# input from user\n",
    "# check the type of the input data\n",
    "# typecasting into other datatypes"
   ]
  },
  {
   "cell_type": "markdown",
   "metadata": {},
   "source": [
    "## Understanding difference between Compiler and Interpreter\n",
    " Compiler coverts the code as a whole from high level language to machine code whereas,\n",
    " Interpreter converts the code line by line from high language to machine code."
   ]
  },
  {
   "cell_type": "code",
   "execution_count": null,
   "metadata": {},
   "outputs": [],
   "source": [
    "# check the difference"
   ]
  },
  {
   "cell_type": "markdown",
   "metadata": {},
   "source": [
    "## Keywords\n",
    "- Keywords are reserved words which are used by language \n",
    "- Keywords can not be used as variable name\n",
    "\n",
    "### List of Keywords in python\n",
    "\n",
    "- and, exec, not, assert, finally, or, break, for, pass, class, from, print, continue, global, raise, del, \n",
    "- if, return, del, import,\ttry, elif, in, while, else, is, with, except, lambda, yield"
   ]
  },
  {
   "cell_type": "markdown",
   "metadata": {},
   "source": [
    "## Comments\n",
    "\n",
    "### Single Line comment\n",
    "\n",
    "use # for single line comment\n",
    "\n",
    "example: # This line is a comment and hence will not be executed\n",
    "\n",
    "### Multi Line comment\n",
    "use ''' (three single quotes) \n",
    "\n",
    "Note: This is not PEP-8 supported coding standard. Use multiple single line comment to conform to PEP-8.\n",
    "\n",
    "example: \n",
    "\n",
    "'''\n",
    "\n",
    "This is multiline comment\n",
    "\n",
    "This line will also be  commented out\n",
    "\n",
    "'''\n"
   ]
  },
  {
   "cell_type": "code",
   "execution_count": null,
   "metadata": {
    "scrolled": false
   },
   "outputs": [],
   "source": [
    "# Try single line commenting\n",
    "# Try multi line commenting\n"
   ]
  }
 ],
 "metadata": {
  "kernelspec": {
   "display_name": "Python 2",
   "language": "python",
   "name": "python2"
  },
  "language_info": {
   "codemirror_mode": {
    "name": "ipython",
    "version": 3
   },
   "file_extension": ".py",
   "mimetype": "text/x-python",
   "name": "python",
   "nbconvert_exporter": "python",
   "pygments_lexer": "ipython3",
   "version": "3.7.0"
  }
 },
 "nbformat": 4,
 "nbformat_minor": 2
}
