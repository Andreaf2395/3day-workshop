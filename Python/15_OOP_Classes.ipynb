{
 "cells": [
  {
   "cell_type": "markdown",
   "metadata": {},
   "source": [
    "### <center>Classes in Python continued ...</center>\n",
    "### <center>Author: e-Yantra Team </center>"
   ]
  },
  {
   "cell_type": "markdown",
   "metadata": {},
   "source": [
    "# Classes declaration (recap):\n",
    "    "
   ]
  },
  {
   "cell_type": "code",
   "execution_count": null,
   "metadata": {},
   "outputs": [],
   "source": [
    "class Geometric_Shape():\n",
    "    # contains member variables\n",
    "    # contains member methods\n",
    "    \n",
    "or\n",
    "    \n",
    "class Rectangle(Geometric_Shape):"
   ]
  },
  {
   "cell_type": "code",
   "execution_count": null,
   "metadata": {},
   "outputs": [],
   "source": [
    "class Geometric_Shape():\n",
    "    # member variables\n",
    "    height = 10\n",
    "    width = 20\n",
    "    area = 0\n",
    "    \n",
    "\n",
    "class Rectangle(Geometric_Shape):    \n",
    "    # member method\n",
    "    def AreaRectangle():\n",
    "        area = height * width\n",
    "        return area"
   ]
  },
  {
   "cell_type": "markdown",
   "metadata": {},
   "source": [
    "# Class Constructor:"
   ]
  },
  {
   "cell_type": "raw",
   "metadata": {},
   "source": [
    "class Geometric_Shape():\n",
    "    # constructor\n",
    "    def __init__(self, name, num_edges, num_vertices):\n",
    "        self.name = name\n",
    "        self.num_edges = num_edges\n",
    "        self.num_vertices = num_vertices\n",
    "        \n",
    "\n",
    "def __init__(self, param1, param2, ..., paramn):\n",
    "\n",
    "    - This is the standard declaration of a \"constructor\"\n",
    "    \n",
    "    - constructor is never called but explicitly\n",
    "    \n",
    "    - constructor is called automatically when instantiating a class"
   ]
  },
  {
   "cell_type": "markdown",
   "metadata": {},
   "source": [
    "# Default values in Constructor:"
   ]
  },
  {
   "cell_type": "code",
   "execution_count": null,
   "metadata": {},
   "outputs": [],
   "source": [
    "class Geometric_Shape():\n",
    "    # constructor\n",
    "    def __init__(self, name = \"Line\", num_edges = 1, num_vertices = 2):\n",
    "        self.name = name\n",
    "        self.num_edges = num_edges\n",
    "        self.num_vertices = num_vertices"
   ]
  },
  {
   "cell_type": "markdown",
   "metadata": {},
   "source": [
    "# Complete Class (example):"
   ]
  },
  {
   "cell_type": "code",
   "execution_count": null,
   "metadata": {},
   "outputs": [],
   "source": [
    "class Geometric_Shape():\n",
    "    # member variables\n",
    "    height = 10\n",
    "    width = 20\n",
    "    area = 0\n",
    "    \n",
    "    # constructor\n",
    "    def __init__(self, name = \"Line\", num_edges = 1, num_vertices = 2):\n",
    "        self.name = name\n",
    "        self.num_edges = num_edges\n",
    "        self.num_vertices = num_vertices\n",
    "    \n",
    "    # member method\n",
    "    def Area_Shape(width, height):\n",
    "        area = height * width\n",
    "        return area"
   ]
  },
  {
   "cell_type": "markdown",
   "metadata": {},
   "source": [
    "# Instantiating Class:"
   ]
  },
  {
   "cell_type": "markdown",
   "metadata": {},
   "source": [
    "A class is instantiated by creating an \"object\" - \n",
    "\n",
    "shape_rectangle = Geometric_Shape(name = \"Rectangle\",num_edges = 4,num_vertices = 4)\n",
    "\n",
    " - here a geometric shape of type \"Rectangle\" is instantiated which has 4 number of edges and 4 number of vertices"
   ]
  },
  {
   "attachments": {
    "shapes.png": {
     "image/png": "[encoded data removed]"
    }
   },
   "cell_type": "markdown",
   "metadata": {},
   "source": [
    "Verifying instance:\n",
    "    \n",
    "print(shape_rectangle)\n",
    "\n",
    "![shapes.png](attachment:shapes.png)"
   ]
  }
 ],
 "metadata": {
  "kernelspec": {
   "display_name": "Python 3",
   "language": "python",
   "name": "python3"
  },
  "language_info": {
   "codemirror_mode": {
    "name": "ipython",
    "version": 3
   },
   "file_extension": ".py",
   "mimetype": "text/x-python",
   "name": "python",
   "nbconvert_exporter": "python",
   "pygments_lexer": "ipython3",
   "version": "3.5.2"
  }
 },
 "nbformat": 4,
 "nbformat_minor": 2
}
