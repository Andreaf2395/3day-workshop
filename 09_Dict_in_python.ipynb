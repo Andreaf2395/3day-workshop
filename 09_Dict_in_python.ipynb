{
 "cells": [
  {
   "cell_type": "markdown",
   "metadata": {},
   "source": [
    "## <center>Dictionary </center>\n",
    "### <center>Author: e-Yantra Team </center>"
   ]
  },
  {
   "cell_type": "markdown",
   "metadata": {},
   "source": [
    "## Topics Covered\n",
    "\n",
    "- Defining dictionary\n",
    "- Accessing values\n",
    "- updating dictionary\n",
    "- deletion\n",
    "- compare, len, string representation\n",
    "- Methods\n",
    "    - clear\n",
    "    - copy\n",
    "    - fromkeys\n",
    "    - get\n",
    "    - has_key\n",
    "    - items\n",
    "    - keys\n",
    "    - values\n",
    "    - update\n",
    "        \n",
    "## Key Concepts\n",
    "- key-value\n",
    "- Keys are immutable\n",
    "- Duplicate key is NOT allowed"
   ]
  },
  {
   "cell_type": "markdown",
   "metadata": {
    "collapsed": true
   },
   "source": [
    "## Declaring a Dictionary \n",
    "\n",
    "- Each key is separated from its value by a colon (:)\n",
    "- the items are separated by commas, and the whole thing is enclosed in curly braces. \n",
    "- An empty dictionary without any items is written with just two curly braces - {}\n",
    "- Keys are unique \n",
    "- values may or may not be unique. \n",
    "- The values of a dictionary can be of any type"
   ]
  },
  {
   "cell_type": "code",
   "execution_count": null,
   "metadata": {},
   "outputs": [],
   "source": [
    "# Try dictionary"
   ]
  },
  {
   "cell_type": "markdown",
   "metadata": {
    "collapsed": true
   },
   "source": [
    "## Accessing a dictionary\n",
    "- Dictionary can be assessed by its key\n",
    "- If key does not exist, python raises KeyError"
   ]
  },
  {
   "cell_type": "code",
   "execution_count": null,
   "metadata": {},
   "outputs": [],
   "source": [
    "# Access the dictionary with key"
   ]
  },
  {
   "cell_type": "markdown",
   "metadata": {
    "collapsed": true
   },
   "source": [
    "## Updating Dictionary\n",
    "\n",
    "- adding a new entry or a key-value pair, \n",
    "- modifying an existing entry, or \n",
    "- deleting an existing entry"
   ]
  },
  {
   "cell_type": "code",
   "execution_count": null,
   "metadata": {},
   "outputs": [],
   "source": [
    "# Update dictionary"
   ]
  },
  {
   "cell_type": "markdown",
   "metadata": {},
   "source": [
    "## Delete element from dictionary\n",
    "\n",
    "- remove individual dictionary elements \n",
    "- delete entire dictionary in a single operation"
   ]
  },
  {
   "cell_type": "code",
   "execution_count": null,
   "metadata": {},
   "outputs": [],
   "source": [
    "# delete element and entire dictionary"
   ]
  },
  {
   "cell_type": "markdown",
   "metadata": {},
   "source": [
    "## Dictionary Builtin functions\n",
    "- len(my_dict) - returns length of dictionary i.e. number of keys in dictionary\n",
    "- str(my_dict) - return string representation of entire dictionary\n",
    "- type(my_dict) - standard type() function. Return 'dict' for dictionary variable"
   ]
  },
  {
   "cell_type": "code",
   "execution_count": null,
   "metadata": {},
   "outputs": [],
   "source": [
    "# len, str, type"
   ]
  },
  {
   "cell_type": "markdown",
   "metadata": {},
   "source": [
    "## Dictionary Builtin methods\n",
    "- clear() - clear all elements of dictionary. Results in empty dictionary\n",
    "- copy() - create a copy of dictionary\n",
    "- get(key, default=None) - Returns value for given key. If Key is not present, returns the second argument.                            Second parameter is optional having default value of None\n",
    "- items()  - returns list of (key,value) tuple\n",
    "- keys()   - returns list of all key\n",
    "- values() - returns list of list of values "
   ]
  },
  {
   "cell_type": "code",
   "execution_count": null,
   "metadata": {},
   "outputs": [],
   "source": [
    "# clear all elements of dictionary      "
   ]
  },
  {
   "cell_type": "code",
   "execution_count": 1,
   "metadata": {},
   "outputs": [],
   "source": [
    "# create a copy of dictionary"
   ]
  },
  {
   "cell_type": "code",
   "execution_count": null,
   "metadata": {},
   "outputs": [],
   "source": [
    "# get values for given key"
   ]
  },
  {
   "cell_type": "code",
   "execution_count": null,
   "metadata": {},
   "outputs": [],
   "source": [
    "# get list of all keys"
   ]
  },
  {
   "cell_type": "code",
   "execution_count": null,
   "metadata": {},
   "outputs": [],
   "source": [
    "# get key and value as list of tuple"
   ]
  },
  {
   "cell_type": "code",
   "execution_count": null,
   "metadata": {},
   "outputs": [],
   "source": [
    "# return list of all values in my_dict"
   ]
  }
 ],
 "metadata": {
  "kernelspec": {
   "display_name": "Python 2",
   "language": "python",
   "name": "python2"
  },
  "language_info": {
   "codemirror_mode": {
    "name": "ipython",
    "version": 3
   },
   "file_extension": ".py",
   "mimetype": "text/x-python",
   "name": "python",
   "nbconvert_exporter": "python",
   "pygments_lexer": "ipython3",
   "version": "3.7.0"
  }
 },
 "nbformat": 4,
 "nbformat_minor": 2
}
