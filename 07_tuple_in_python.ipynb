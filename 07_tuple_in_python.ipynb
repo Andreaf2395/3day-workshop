{
 "cells": [
  {
   "cell_type": "markdown",
   "metadata": {},
   "source": [
    "## <center>Tuple </center>\n",
    "### <center>Author: e-Yantra Team </center>"
   ]
  },
  {
   "cell_type": "markdown",
   "metadata": {},
   "source": [
    "## Topics to cover\n",
    "- How to define tuple - tup = ()\n",
    "- Indexing, slicing, check membership\n",
    "- length (len), compare (cmp), Iteration, min, max\n",
    "- conversion to other datatype\n",
    "    \n",
    "## Definition\n",
    "A tuple is a sequence of immutable Python data structure. \n",
    "\n",
    "## Key concepts\n",
    "- Tuple are immutable i.e. elements inside tuple can not be changed\n",
    "- A tuple can store elements of different datatype - string, integer, float etc\n",
    "- tuple can be converted to other data types such as string.   "
   ]
  },
  {
   "cell_type": "code",
   "execution_count": null,
   "metadata": {},
   "outputs": [],
   "source": [
    "tup_1 = ()        # defining empty tuple\n",
    "tup_2 = (1947,1950, 1962, 1965, 1971, 1999, 'e-Yantra',2017.01) \n",
    "tup_3 = (50,)     # defining single element tuple\n",
    "\n",
    "print (tup_1)\n",
    "# print (type(tup_1))\n",
    "# print (tup_2)\n",
    "# print (tup_3)"
   ]
  },
  {
   "cell_type": "markdown",
   "metadata": {
    "collapsed": true
   },
   "source": [
    "## Accessing Elements of tuple\n",
    "\n",
    "- Using slicing and indexing - as we did in string manipulation"
   ]
  },
  {
   "cell_type": "code",
   "execution_count": null,
   "metadata": {},
   "outputs": [],
   "source": [
    "tup_2 = (1947,1950, 1962, 1965, 1971, 1999, 'e-Yantra',2017.01) \n",
    "\n",
    "print (tup_2[0:2])\n",
    "print (tup_2[-3:])"
   ]
  },
  {
   "cell_type": "markdown",
   "metadata": {},
   "source": [
    "## Updating tuple\n",
    "- Updating exsisting tuple is not allowed. \n",
    "- New tuple can be creating by using exsisting tuple by using Concatenation operator"
   ]
  },
  {
   "cell_type": "code",
   "execution_count": null,
   "metadata": {},
   "outputs": [],
   "source": [
    "tup_1 = ()\n",
    "tup_2 = (1947,1950, 1962, 1965, 1971, 1999, 'e-Yantra',2017.01) \n",
    "\n",
    "#tup_1[0]= 1          # Invalid Operation \n",
    "\n",
    "tup_1 = (1,2,3)\n",
    "\n",
    "tup_3 = tup_1 + tup_2[2:4]\n",
    "print (tup_3)\n",
    "\n"
   ]
  },
  {
   "cell_type": "markdown",
   "metadata": {},
   "source": [
    "## Basic Tuple operation\n",
    "- len\n",
    "- min\n",
    "- max\n",
    "- Repetition\n",
    "- Membership\n",
    "- Iteration    "
   ]
  },
  {
   "cell_type": "code",
   "execution_count": null,
   "metadata": {},
   "outputs": [],
   "source": [
    "tup_2 = (1947,1950, 1962, 1965, 1971, 1999, 'e-Yantra',2017.01) \n",
    "tup_repeat = 4*(1947,)\n",
    "\n",
    "print (\"length of tuple: \", len(tup_2))\n",
    "# print (\"min. value: \", min(tup_2)) # only when same data type is there, else it throws error\n",
    "# print (\"max. value: \", max(tup_2))\n",
    "print (\"repeat same element in tuple\", tup_repeat)"
   ]
  },
  {
   "cell_type": "code",
   "execution_count": null,
   "metadata": {},
   "outputs": [],
   "source": [
    "# check membership\n",
    "tup_2 = (1947,1950, 1962, 1965, 1971, 1999, 'e-Yantra',2017.01) \n",
    "\n",
    "print (1947 in tup_2)          # return true as 1947 is present in tup_2\n",
    "print (2000 in tup_2)          # return false as 2000 in not present in tup_2\n",
    "print (2000 not in tup_2)      # return true as 2000 in not present in tup_2"
   ]
  },
  {
   "cell_type": "code",
   "execution_count": null,
   "metadata": {},
   "outputs": [],
   "source": [
    "## Iterate through all the elements of tuple \n",
    "tup_2 = (1947,1950, 1962, 1965, 1971, 1999, 'e-Yantra',2017.01) \n",
    "\n",
    "print (\"Printing All elements of tuple\")\n",
    "\n",
    "for i in tup_2:\n",
    "    print (i)"
   ]
  },
  {
   "cell_type": "markdown",
   "metadata": {},
   "source": [
    "## Conversion between tuple to string"
   ]
  },
  {
   "cell_type": "code",
   "execution_count": null,
   "metadata": {},
   "outputs": [],
   "source": [
    "string_to_tuple = tuple(\"e-Yantra\")    # string to tuple\n",
    "print (\"String to tuple: \", string_to_tuple )                \n",
    "\n",
    "print (\"Tuple to string: \",\"\".join(string_to_tuple))  # tuple to string "
   ]
  }
 ],
 "metadata": {
  "kernelspec": {
   "display_name": "Python 2",
   "language": "python",
   "name": "python2"
  },
  "language_info": {
   "codemirror_mode": {
    "name": "ipython",
    "version": 3
   },
   "file_extension": ".py",
   "mimetype": "text/x-python",
   "name": "python",
   "nbconvert_exporter": "python",
   "pygments_lexer": "ipython3",
   "version": "3.7.0"
  }
 },
 "nbformat": 4,
 "nbformat_minor": 2
}
