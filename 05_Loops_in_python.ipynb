{
 "cells": [
  {
   "cell_type": "markdown",
   "metadata": {},
   "source": [
    "## <center>Loops </center>\n",
    "### <center>Author: e-Yantra Team </center>"
   ]
  },
  {
   "cell_type": "markdown",
   "metadata": {},
   "source": [
    "## Topics covered\n",
    "\n",
    "- While loop\n",
    "- for loop\n",
    "- nested loops\n",
    "- continue\n",
    "- break   "
   ]
  },
  {
   "cell_type": "markdown",
   "metadata": {},
   "source": [
    "## While Loop - Key Concept\n",
    "\n",
    "- Syntax: \n",
    "\n",
    "```python\n",
    "while(condition):\n",
    "    code_block\n",
    "```\n",
    "    \n",
    "- Infinite Loop\n",
    "\n",
    "```python\n",
    "while True:\n",
    "    code_block\n",
    "\n",
    "while(1):\n",
    "    code_block\n",
    "```    "
   ]
  },
  {
   "cell_type": "code",
   "execution_count": 1,
   "metadata": {},
   "outputs": [],
   "source": [
    "# Try while loop"
   ]
  },
  {
   "cell_type": "markdown",
   "metadata": {},
   "source": [
    "## Range function\n",
    "\n",
    "Syntax: range (arg1, arg2, arg3)\n",
    "\n",
    "- First argument: start value \n",
    "- Second argument: stop value\n",
    "- Third argument: step-size. \n",
    "\n",
    "The range function returns a list of values from the start value to the stop value (not included), moving in steps of size given by the step-size argument."
   ]
  },
  {
   "cell_type": "code",
   "execution_count": 2,
   "metadata": {},
   "outputs": [],
   "source": [
    "# Try range function"
   ]
  },
  {
   "cell_type": "code",
   "execution_count": 3,
   "metadata": {},
   "outputs": [],
   "source": [
    "# Try range function with step size"
   ]
  },
  {
   "cell_type": "code",
   "execution_count": 4,
   "metadata": {},
   "outputs": [],
   "source": [
    "# experiment"
   ]
  },
  {
   "cell_type": "code",
   "execution_count": 5,
   "metadata": {},
   "outputs": [],
   "source": [
    "# experiment"
   ]
  },
  {
   "cell_type": "markdown",
   "metadata": {},
   "source": [
    "## break statement\n",
    "\n",
    "- used to break out of the innermost loop. \n",
    "\n",
    "Example: The while loop to print the squares of all the numbers upto 5, can be modified using the break statement."
   ]
  },
  {
   "cell_type": "code",
   "execution_count": 6,
   "metadata": {},
   "outputs": [],
   "source": [
    "# Try break statement"
   ]
  },
  {
   "cell_type": "markdown",
   "metadata": {},
   "source": [
    "## Continue statement\n",
    "\n",
    "- used to skip execution of the rest of the loop on this iteration and continue to the end of the iteration.\n",
    "\n",
    "Example: \n",
    "\n",
    "Modify the program to print squares of all number other than zero and one"
   ]
  },
  {
   "cell_type": "code",
   "execution_count": 7,
   "metadata": {},
   "outputs": [],
   "source": [
    "# Try continue statement"
   ]
  }
 ],
 "metadata": {
  "kernelspec": {
   "display_name": "Python 2",
   "language": "python",
   "name": "python2"
  },
  "language_info": {
   "codemirror_mode": {
    "name": "ipython",
    "version": 3
   },
   "file_extension": ".py",
   "mimetype": "text/x-python",
   "name": "python",
   "nbconvert_exporter": "python",
   "pygments_lexer": "ipython3",
   "version": "3.7.0"
  }
 },
 "nbformat": 4,
 "nbformat_minor": 2
}
