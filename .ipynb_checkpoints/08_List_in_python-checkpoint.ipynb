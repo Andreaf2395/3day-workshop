{
 "cells": [
  {
   "cell_type": "markdown",
   "metadata": {},
   "source": [
    "## <center>List </center>\n",
    "### <center>Author: e-Yantra Team </center>"
   ]
  },
  {
   "cell_type": "markdown",
   "metadata": {},
   "source": [
    "## Topics to cover\n",
    "\n",
    "- Defining List\n",
    "- Indexing, slicing, check membership\n",
    "- length (len), compare (cmp), max, min, convert list to tuple and string\n",
    "- copy, shallow copy\n",
    "- Multi-dimension\n",
    "- list to string using join\n",
    "- string to list using split\n",
    "- Methods\n",
    "    - append\n",
    "    - insert\n",
    "    - count\n",
    "    - extend\n",
    "    - index\n",
    "    - pop\n",
    "    - remove\n",
    "    - reverse\n",
    "    - sort (reverse=True)\n",
    "    - sorted\n",
    "    \n",
    "## tuples vs lists \n",
    "    1. tuples are immutable i.e. cannot be changed unlike lists \n",
    "    2. tuples use parentheses, whereas lists use square brackets"
   ]
  },
  {
   "cell_type": "markdown",
   "metadata": {},
   "source": [
    "## Declaring a List"
   ]
  },
  {
   "cell_type": "code",
   "execution_count": null,
   "metadata": {},
   "outputs": [],
   "source": [
    "cs101_students = []        # create empty list \n",
    "cs101_students = list()    # create empty list \n",
    "cs101_students = ['Sanam','Sachin','Ajit']"
   ]
  },
  {
   "cell_type": "markdown",
   "metadata": {},
   "source": [
    "## Accessing Elements of list\n",
    "\n",
    "- Using slicing and indexing - as we did in string manipulation"
   ]
  },
  {
   "cell_type": "code",
   "execution_count": null,
   "metadata": {},
   "outputs": [],
   "source": [
    "cs101_students = ['Sanam','Sachin','Ajit']\n",
    "\n",
    "print (cs101_students[0:2])\n",
    "print (cs101_students[-2:])  # negative indexing"
   ]
  },
  {
   "cell_type": "markdown",
   "metadata": {},
   "source": [
    "## Updating List - using index\n",
    "- You can replace old element with new\n",
    "- New element can not be added to list"
   ]
  },
  {
   "cell_type": "code",
   "execution_count": null,
   "metadata": {},
   "outputs": [],
   "source": [
    "cs101_students = ['Sanam','Sachin','Ajit']\n",
    "print (cs101_students)\n",
    "cs101_students[1] = 'Piyush'\n",
    "print (cs101_students)\n",
    "# cs101_students[3] = 'Piyush'           # Not valid operation - Give Index Error"
   ]
  },
  {
   "cell_type": "markdown",
   "metadata": {},
   "source": [
    "## Updating List - using append() method\n",
    "- append method takes one input as parameter\n",
    "- add new element to the end of list"
   ]
  },
  {
   "cell_type": "code",
   "execution_count": null,
   "metadata": {},
   "outputs": [],
   "source": [
    "cs101_students = ['Sanam','Sachin','Ajit']\n",
    "print (cs101_students)\n",
    "cs101_students.append('Piyush')\n",
    "cs101_students.append('Deepa')\n",
    "print (cs101_students)"
   ]
  },
  {
   "cell_type": "markdown",
   "metadata": {},
   "source": [
    "## Insertion of element\n",
    "- listname.insert(index,element)\n",
    "    - listname is name of list\n",
    "    - index is position where insertion needs to be done"
   ]
  },
  {
   "cell_type": "code",
   "execution_count": null,
   "metadata": {},
   "outputs": [],
   "source": [
    "cs101_students = ['Sanam','Sachin','Ajit']\n",
    "cs101_students.insert(1,\"Piyush\")          # Insert \"Piyush\" at index 1\n",
    "print (cs101_students)\n",
    "cs101_students.insert(1,[1,2,3])  # Insert list [1,2,3] at index 1\n",
    "# cs101_students.insert(8,[1,2,3])     # if the index gets exceeded, then the element is added as the last element\n",
    "print (cs101_students)"
   ]
  },
  {
   "cell_type": "markdown",
   "metadata": {},
   "source": [
    "## Extend list\n",
    "- Adding multiple element to the end of list"
   ]
  },
  {
   "cell_type": "code",
   "execution_count": null,
   "metadata": {},
   "outputs": [],
   "source": [
    "cs101_students = ['Sanam','Sachin','Ajit']\n",
    "cs102_students = ['Deepa','Rutuja']\n",
    "\n",
    "print (cs101_students)\n",
    "cs102_students.extend(cs101_students)\n",
    "print (cs102_students)"
   ]
  },
  {
   "cell_type": "markdown",
   "metadata": {
    "collapsed": true
   },
   "source": [
    "## Basic List operation\n",
    "- len\n",
    "- min\n",
    "- max\n",
    "- Repetition\n",
    "- Membership\n",
    "- Iteration  "
   ]
  },
  {
   "cell_type": "code",
   "execution_count": null,
   "metadata": {},
   "outputs": [],
   "source": [
    "cs101_students = ['Sanam','Sachin','Ajit']\n",
    "\n",
    "cs101_marks = 4*[96]\n",
    "\n",
    "print (\"length of list: \", len(cs101_students))\n",
    "print (\"min. value: \", min(cs101_students))\n",
    "print (\"max. value: \", max(cs101_students))\n",
    "print (\"repeat same element in list: \", cs101_marks)"
   ]
  },
  {
   "cell_type": "code",
   "execution_count": null,
   "metadata": {},
   "outputs": [],
   "source": [
    "# check membership of element \n",
    "cs101_students = ['Sanam','Sachin','Ajit']\n",
    "\n",
    "print ('Sanam' in cs101_students)   # return true as Sanam is present\n",
    "print ('sanam' in cs101_students)   # return false as sanam(case-sensitive) is not present"
   ]
  },
  {
   "cell_type": "code",
   "execution_count": null,
   "metadata": {},
   "outputs": [],
   "source": [
    "cs101_students = ['Sanam','Sachin','Ajit']\n",
    "\n",
    "## Iterate through all the elements of list \n",
    "print (\"Printing all elements of list\")\n",
    "for i in cs101_students:\n",
    "    print (i)"
   ]
  },
  {
   "cell_type": "markdown",
   "metadata": {},
   "source": [
    "## Counting element in list\n",
    "- listname.count(element)\n",
    "    - listname is name of list\n",
    "    - return number of time \"element\" is present in \"listname\""
   ]
  },
  {
   "cell_type": "code",
   "execution_count": null,
   "metadata": {},
   "outputs": [],
   "source": [
    "cs101_students = ['Sanam','Sachin','Ajit','Ajit']\n",
    "print (\"Ajit is present %d time\" %cs101_students.count(\"Ajit\"))\n",
    "print (\"Deepa is present %d time\" %cs101_students.count(\"Deepa\"))"
   ]
  },
  {
   "cell_type": "markdown",
   "metadata": {},
   "source": [
    "## Finding index of element in list\n",
    "- listname.index(element)\n",
    "    - listname is name of list\n",
    "    - return index of first occurance of \"element\" in \"listname\"\n",
    "    - If element is not present in list, error is raised "
   ]
  },
  {
   "cell_type": "code",
   "execution_count": null,
   "metadata": {},
   "outputs": [],
   "source": [
    "cs101_students = ['Sanam','Sachin','Ajit','Ajit']\n",
    "print (\"Sachin is present at %d position\" %cs101_students.index(\"Sachin\"))\n",
    "# print (\"Deepa is present %d time\" %cs101_students.index(\"Deepa\") )  # Gives value error is element is not present in list"
   ]
  },
  {
   "cell_type": "markdown",
   "metadata": {},
   "source": [
    "## pop\n",
    "- pop (extract and remove element)\n",
    "- listname.pop(index)\n",
    "    - listname is name of list\n",
    "    - index is position of element which has to be removed. If it is not specified, last element is removed\n",
    "    - return element which is removed\n",
    "    - list is updated, with last element removed"
   ]
  },
  {
   "cell_type": "code",
   "execution_count": null,
   "metadata": {},
   "outputs": [],
   "source": [
    "cs101_students = ['Sanam','Sachin','Ajit','Deepa']\n",
    "print (\"Element pop is: \",cs101_students.pop())   # pop element at last index\n",
    "print (\"Updated list is: \",cs101_students)\n",
    "\n",
    "cs101_students = ['Sanam','Sachin','Ajit','Deepa']\n",
    "print (\"Element pop is: \",cs101_students.pop(1))  # pop element at index 1 \n",
    "print (\"Updated list is: \",cs101_students)"
   ]
  },
  {
   "cell_type": "markdown",
   "metadata": {},
   "source": [
    "## remove\n",
    "- remove (remove element)\n",
    "- listname.remove(element)\n",
    "    - listname is name of list\n",
    "    - element is one which has to be removed. If element is not present in list, gives value error \n",
    "    - How remove is differenr from pop - does not return anything"
   ]
  },
  {
   "cell_type": "code",
   "execution_count": null,
   "metadata": {},
   "outputs": [],
   "source": [
    "cs101_students = ['Sanam','Sachin','Ajit','Deepa']\n",
    "print (\"Element removed is: \",cs101_students.remove('Ajit') )     # remove method returns nothing\n",
    "print (\"Updated list is: \",cs101_students)\n",
    "#cs101_students.remove('Saurav')       # Element 'Saurav' is not present - hence this will give value error"
   ]
  },
  {
   "cell_type": "markdown",
   "metadata": {},
   "source": [
    "## reverse\n",
    "- reverse ordering of list in place\n",
    "- return nothing"
   ]
  },
  {
   "cell_type": "code",
   "execution_count": null,
   "metadata": {},
   "outputs": [],
   "source": [
    "cs101_students = ['Sanam','Sachin','Ajit','Deepa']\n",
    "#reversed_list = cs101_students\n",
    "rev = cs101_students.reverse()             # method reverse returns nothing\n",
    "print (cs101_students)                       # List is updated in reverse order\n",
    "print (rev)"
   ]
  },
  {
   "cell_type": "markdown",
   "metadata": {},
   "source": [
    "## sort\n",
    "- sort list in place\n",
    "- return nothing\n",
    "- sorting order can be reversed using reverse parameter by setting reverse=True"
   ]
  },
  {
   "cell_type": "code",
   "execution_count": null,
   "metadata": {},
   "outputs": [],
   "source": [
    "cs101_students = ['Sanam','Sachin','Ajit','Deepa']\n",
    "#reversed_list = cs101_students\n",
    "rev = cs101_students.sort()                # method sort returns nothing\n",
    "print (cs101_students)                       # List is updated in sorted order\n",
    "print (rev)\n",
    "\n",
    "cs101_students.sort(reverse=True)         # reverse sorting\n",
    "print (cs101_students)"
   ]
  },
  {
   "cell_type": "markdown",
   "metadata": {},
   "source": [
    "## Conversion to other data-structure\n",
    "- it is possible to convert List to Tuple or String and vice-versa"
   ]
  },
  {
   "cell_type": "code",
   "execution_count": null,
   "metadata": {},
   "outputs": [],
   "source": [
    "cs101_students = ['Sanam','Sachin','Ajit','Deepa']\n",
    "\n",
    "## List to tuple \n",
    "tup = tuple(cs101_students)\n",
    "print (\"List to Tuple: \",tup, type(tup))\n",
    "\n",
    "## Tuple to List\n",
    "lst = list(tup)\n",
    "print (\"Tuple to list: \",lst, type(lst))\n",
    "\n",
    "string = \"\".join(cs101_students)\n",
    "print (\"List to String: \", string, type(string))\n",
    "\n",
    "str_lst = list(string)\n",
    "str1_lst = string.split()\n",
    "print (\"String to List: \",str_lst, type(str_lst))\n",
    "print (\"String to List: \",str1_lst, type(str1_lst))"
   ]
  },
  {
   "cell_type": "markdown",
   "metadata": {},
   "source": [
    "## Multi-dimension list\n",
    "- List of list\n",
    "- List of tuple\n",
    "- List of tuple, list and string"
   ]
  },
  {
   "cell_type": "code",
   "execution_count": null,
   "metadata": {},
   "outputs": [],
   "source": [
    "roll = (1,2,3,4,5)\n",
    "name = ('Sanam', 'Sachin', 'Ajit', 'Deepa','Piyush')\n",
    "marks = [10,5.5,8,9,8.5]\n",
    "subject = ['Electronics','C-Prog', 'Data-structure','Digital Circuits']\n",
    "\n",
    "information = [0]\n",
    "\n",
    "# information.insert(5,name)\n",
    "information.insert(2,name)\n",
    "# information.insert(0,marks)\n",
    "# information.insert(4,subject)\n",
    "\n",
    "print (information)\n",
    "print (information[1])\n",
    "# print (information[1][2])"
   ]
  }
 ],
 "metadata": {
  "kernelspec": {
   "display_name": "Python 2",
   "language": "python",
   "name": "python2"
  },
  "language_info": {
   "codemirror_mode": {
    "name": "ipython",
    "version": 3
   },
   "file_extension": ".py",
   "mimetype": "text/x-python",
   "name": "python",
   "nbconvert_exporter": "python",
   "pygments_lexer": "ipython3",
   "version": "3.7.0"
  }
 },
 "nbformat": 4,
 "nbformat_minor": 2
}
