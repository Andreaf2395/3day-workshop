{
 "cells": [
  {
   "cell_type": "markdown",
   "metadata": {},
   "source": [
    "## <center>Raspberry Pi IO Interfacing and Servo control </center>\n",
    "### <center>Author: e-Yantra Team </center>"
   ]
  },
  {
   "cell_type": "markdown",
   "metadata": {},
   "source": [
    "## Topic covered\n",
    "    - Interfacing RGB LED with Raspberry Pi\n",
    "    - Interfacing Servo motor with Raspberry Pi\n",
    "    \n",
    "\n",
    "\n",
    "<img src=\"driver_card_annonated.png\" alt=\"python prompt is command line\">"
   ]
  },
  {
   "cell_type": "markdown",
   "metadata": {},
   "source": [
    "## Controlling RGB LED\n",
    "\n",
    "    - Connect 3 Female-to-Female wire between LED Header and pins 17,22,27 on Rpi Header\n",
    "    - Connect 5V adaptor to DC barrel jack"
   ]
  },
  {
   "cell_type": "code",
   "execution_count": null,
   "metadata": {
    "collapsed": true
   },
   "outputs": [],
   "source": [
    "import RPi.GPIO as GPIO\n",
    "import time\n",
    "\n",
    "LED_PIN_1 = 22\n",
    "LED_PIN_2 = 17\n",
    "LED_PIN_3 = 27\n",
    "\n",
    "GPIO.setmode(GPIO.BCM)\n",
    "GPIO.setup(LED_PIN_1,GPIO.OUT)\n",
    "GPIO.setup(LED_PIN_2,GPIO.OUT)\n",
    "GPIO.setup(LED_PIN_3,GPIO.OUT)\n",
    "\n",
    "time.sleep(1)\n",
    "\n",
    "try:\n",
    "    while(1):\n",
    "        print \"ON\"\n",
    "        GPIO.output(LED_PIN_1, True)\n",
    "        GPIO.output(LED_PIN_2, False)\n",
    "        GPIO.output(LED_PIN_3, False)\n",
    "        time.sleep(4)\n",
    "        print \"OFF\"\n",
    "        GPIO.output(LED_PIN_1, False)\n",
    "        GPIO.output(LED_PIN_2, False)\n",
    "        GPIO.output(LED_PIN_3, False)\n",
    "        time.sleep(4)\n",
    "except KeyboardInterrupt:\n",
    "    print \"Keyboard Interrupt\"\n",
    "    GPIO.output(LED_PIN_1, False)\n",
    "    GPIO.output(LED_PIN_2, False)\n",
    "    GPIO.output(LED_PIN_3, False)\n",
    "    GPIO.cleanup()"
   ]
  },
  {
   "cell_type": "markdown",
   "metadata": {},
   "source": [
    "## Controlling Micro servo\n",
    "    - Connect two micro servos on 3-pin servo header. \n",
    "    - Ensure that servo connector are properly connected on 3 pin servo header\n",
    "        - In servo connector pin configuration:\n",
    "            1. Brown wire - Ground (GND)\n",
    "            2. Red wire - 5V\n",
    "            3. Orange wire - Signal (SIG)\n",
    "    - Connect 2 Female-to-Female wire between 2-pin servo Header and pins 23,24 on Rpi Header "
   ]
  },
  {
   "cell_type": "code",
   "execution_count": null,
   "metadata": {
    "collapsed": true
   },
   "outputs": [],
   "source": [
    "import RPi.GPIO as GPIO\n",
    "import time\n",
    "\n",
    "GPIO.setmode(GPIO.BCM)\n",
    "servo1 = 23         # pin 16\n",
    "servo2 = 24         # pin 18\n",
    "\n",
    "GPIO.setup(servo1,GPIO.OUT)\n",
    "GPIO.setup(servo2,GPIO.OUT)\n",
    "\n",
    "p = GPIO.PWM(servo1,50)\n",
    "p1 = GPIO.PWM(servo2,50)\n",
    "\n",
    "p.start(7.5)\n",
    "p1.start(7.5)\n",
    "time.sleep(1)\n",
    "try:\n",
    "    while(1):\n",
    "        p.ChangeDutyCycle(7.5)\t\t#90 degeree\n",
    "        time.sleep(1)\n",
    "                p1.ChangeDutyCycle(7.5)\n",
    "                time.sleep(1)\n",
    "        p.ChangeDutyCycle(2.5)\t\t#0 degree\n",
    "        time.sleep(1)\n",
    "                p1.ChangeDutyCycle(2.5)\n",
    "                time.sleep(1)\n",
    "        p.ChangeDutyCycle(12.5)\t\t#180 degree\n",
    "        time.sleep(1)\n",
    "                p1.ChangeDutyCycle(12.5)\n",
    "                time.sleep(1)\n",
    "except KeyboardInterrupt:\n",
    "    p.stop()\n",
    "    GPIO.cleanup()"
   ]
  }
 ],
 "metadata": {
  "kernelspec": {
   "display_name": "Python 2",
   "language": "python",
   "name": "python2"
  },
  "language_info": {
   "codemirror_mode": {
    "name": "ipython",
    "version": 2
   },
   "file_extension": ".py",
   "mimetype": "text/x-python",
   "name": "python",
   "nbconvert_exporter": "python",
   "pygments_lexer": "ipython2",
   "version": "2.7.14"
  }
 },
 "nbformat": 4,
 "nbformat_minor": 2
}
